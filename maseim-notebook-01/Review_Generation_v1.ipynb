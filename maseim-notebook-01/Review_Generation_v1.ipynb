{
 "cells": [
  {
   "cell_type": "markdown",
   "id": "450f2cb1-6ec4-4f32-85ba-cb4531a09320",
   "metadata": {},
   "source": [
    "# Review Generation"
   ]
  },
  {
   "cell_type": "code",
   "execution_count": 2,
   "id": "c2fd461c",
   "metadata": {},
   "outputs": [],
   "source": [
    "from transformers import pipeline\n",
    "from transformers import AutoModelForCausalLM, AutoTokenizer, TextStreamer\n",
    "import random"
   ]
  },
  {
   "cell_type": "markdown",
   "id": "c62874b7-20e5-443d-ad7c-761db6d55b93",
   "metadata": {},
   "source": [
    "## Model"
   ]
  },
  {
   "cell_type": "code",
   "execution_count": 3,
   "id": "f23824b4",
   "metadata": {},
   "outputs": [],
   "source": [
    "#model instantiation v1\n",
    "model1 = pipeline(\"text-generation\", model=\"openai-community/gpt2\")\n",
    "\n",
    "#model instantiation v2\n",
    "tok = AutoTokenizer.from_pretrained(\"openai-community/gpt2\")\n",
    "model2 = AutoModelForCausalLM.from_pretrained(\"openai-community/gpt2\")\n"
   ]
  },
  {
   "cell_type": "markdown",
   "id": "4c7cb4ab",
   "metadata": {},
   "source": [
    "Product name = \"\"\\\n",
    "0:Very bad\\\n",
    "1:Bad\\\n",
    "2:Not so good\\\n",
    "3:Acceptable\\\n",
    "4:Good\\\n",
    "5:Very good\\"
   ]
  },
  {
   "cell_type": "code",
   "execution_count": 4,
   "id": "53e2f6b2",
   "metadata": {},
   "outputs": [],
   "source": [
    "# transforming score into adjectives\n",
    "criteria = [{\"0\":\"Very bad\", \"1\":\"Bad\", \"2\":\"Not so good\", \"3\":\"Acceptable\", \"4\":\"Good\", \"5\":\"Very good\"}]"
   ]
  },
  {
   "cell_type": "code",
   "execution_count": 5,
   "id": "3911c917",
   "metadata": {},
   "outputs": [],
   "source": [
    "#example\n",
    "product_name = \"iphone\"\n",
    "\n",
    "#fake values\n",
    "score = [0, 1, 2, 3, 4]\n",
    "criteria_scrore = [{\"Design and Build Quality\":score[0], \"Display\":score[1], \"Performance\":score[2], \"Camera Quality\":score[3], \"Battery Life\":score[4]}]"
   ]
  },
  {
   "cell_type": "code",
   "execution_count": 6,
   "id": "50cceffe",
   "metadata": {},
   "outputs": [
    {
     "name": "stderr",
     "output_type": "stream",
     "text": [
      "Setting `pad_token_id` to `eos_token_id`:50256 for open-end generation.\n",
      "Setting `pad_token_id` to `eos_token_id`:50256 for open-end generation.\n"
     ]
    },
    {
     "name": "stdout",
     "output_type": "stream",
     "text": [
      "In terms of Design and Build Quality, this iphone is Very bad. No performance, no ergonomics and no functional form factors. It isn't comfortable as it likes to be, it's a terrible build. It feels like they just\n"
     ]
    },
    {
     "name": "stderr",
     "output_type": "stream",
     "text": [
      "Setting `pad_token_id` to `eos_token_id`:50256 for open-end generation.\n"
     ]
    },
    {
     "name": "stdout",
     "output_type": "stream",
     "text": [
      "I found the Display of this iphone to be Bad news. On the very first try i tried the 3.x screen from a 4.5″ iMac, when i tried the 6.5″ iMac it worked but with all\n"
     ]
    },
    {
     "name": "stderr",
     "output_type": "stream",
     "text": [
      "Setting `pad_token_id` to `eos_token_id`:50256 for open-end generation.\n"
     ]
    },
    {
     "name": "stdout",
     "output_type": "stream",
     "text": [
      "The Performance of this iphone is Not so good, is it for nothing, and what has been the most difficult, if not the most complex of all, tests?\"\n",
      "\n",
      "\"Perhaps a rather small one?\"\n",
      "\n",
      "As she said this\n"
     ]
    },
    {
     "name": "stderr",
     "output_type": "stream",
     "text": [
      "Setting `pad_token_id` to `eos_token_id`:50256 for open-end generation.\n"
     ]
    },
    {
     "name": "stdout",
     "output_type": "stream",
     "text": [
      "Considering the Camera Quality, this iphone, I find it Acceptable, it's a tad slow. However, it's an iphone that really could be an iphone with a wide lens. It's also a fairly cheap model\n",
      "In terms of Battery Life, this iphone is Good for: 1,200. You never know, they may even run you through that hefty charge!\n",
      "\n",
      "\n",
      "This device has a small battery that doesn't always last very long. You will\n"
     ]
    }
   ],
   "source": [
    "#text generation v1\n",
    "\n",
    "for key, value in criteria_scrore[0].items():\n",
    "        #we probably need to extend this list to avoid redundances when a user comes several times.\n",
    "        int_prefix = random.choice([f\"The {key} of this {product_name} is {criteria[0][str(criteria_scrore[0][key])]}\",\\\n",
    "                                 f\"In terms of {key}, this {product_name} is {criteria[0][str(criteria_scrore[0][key])]}\",\\\n",
    "                                 f\"I found the {key} of this {product_name} to be {criteria[0][str(criteria_scrore[0][key])]}\",\\\n",
    "                                 f\"Considering the {key}, this {product_name}, I find it {criteria[0][str(criteria_scrore[0][key])]}\"])\n",
    "        \n",
    "        generated_text = model1(int_prefix)\n",
    "        print(generated_text[0]['generated_text']) \n"
   ]
  },
  {
   "cell_type": "code",
   "execution_count": 8,
   "id": "b1708619",
   "metadata": {},
   "outputs": [
    {
     "name": "stderr",
     "output_type": "stream",
     "text": [
      "Setting `pad_token_id` to `eos_token_id`:50256 for open-end generation.\n"
     ]
    },
    {
     "name": "stdout",
     "output_type": "stream",
     "text": [
      "Considering the Design and Build Quality, this iphone, I find it Very bad. The design is very poor, the build quality is poor, and the battery life is very short. The only thing I can say is that I would buy this phone again.\n",
      "\n",
      "Verified purchase: Yes | Condition: New<|endoftext|>\n"
     ]
    },
    {
     "name": "stderr",
     "output_type": "stream",
     "text": [
      "Setting `pad_token_id` to `eos_token_id`:50256 for open-end generation.\n"
     ]
    },
    {
     "name": "stdout",
     "output_type": "stream",
     "text": [
      "I found the Display of this iphone to be Bad. I have a 4.5\" screen and a 4.5\" screen with a 4.5\" screen. I have a 4.5\" screen and a 4.5\" screen with a 4.5\" screen. I have a 4.5\" screen and a 4.5\" screen with a 4.5\" screen. I have a 4.5\" screen and a 4.5\" screen with a 4.5\" screen. I have a 4.5\"\n"
     ]
    },
    {
     "name": "stderr",
     "output_type": "stream",
     "text": [
      "Setting `pad_token_id` to `eos_token_id`:50256 for open-end generation.\n"
     ]
    },
    {
     "name": "stdout",
     "output_type": "stream",
     "text": [
      "I found the Performance of this iphone to be Not so good. The battery life is not great, but it is not bad. The screen is very bright and the sound is very good. The camera is very good, but the sound is not so good. The camera is very good, but the sound is not so good. The battery life is not great, but it is not bad. The screen is very bright and the sound is very good. The battery life is not great, but it is not bad. The camera is very good, but the\n"
     ]
    },
    {
     "name": "stderr",
     "output_type": "stream",
     "text": [
      "Setting `pad_token_id` to `eos_token_id`:50256 for open-end generation.\n"
     ]
    },
    {
     "name": "stdout",
     "output_type": "stream",
     "text": [
      "In terms of Camera Quality, this iphone is Acceptable.\n",
      "\n",
      "The camera is very good. The camera is very good. The camera is very good. The camera is very good. The camera is very good. The camera is very good. The camera is very good. The camera is very good. The camera is very good. The camera is very good. The camera is very good. The camera is very good. The camera is very good. The camera is very good. The camera is very good. The camera is very good. The\n"
     ]
    },
    {
     "name": "stderr",
     "output_type": "stream",
     "text": [
      "Setting `pad_token_id` to `eos_token_id`:50256 for open-end generation.\n"
     ]
    },
    {
     "name": "stdout",
     "output_type": "stream",
     "text": [
      "The Battery Life of this iphone is Good\n",
      "\n",
      "The battery life of this iphone is Good\n",
      "\n",
      "The battery life of this iphone is Good\n",
      "\n",
      "The battery life of this iphone is Good\n",
      "\n",
      "The battery life of this iphone is Good\n",
      "\n",
      "The battery life of this iphone is Good\n",
      "\n",
      "The battery life of this iphone is Good\n",
      "\n",
      "The battery life of this iphone is Good\n",
      "\n",
      "The battery life of this iphone is Good\n",
      "\n",
      "The battery\n"
     ]
    }
   ],
   "source": [
    "#text generation v2\n",
    "\n",
    "for key, value in criteria_scrore[0].items():\n",
    "        prefix = random.choice([f\"The {key} of this {product_name} is {criteria[0][str(criteria_scrore[0][key])]}\",\\\n",
    "                                 f\"In terms of {key}, this {product_name} is {criteria[0][str(criteria_scrore[0][key])]}\",\\\n",
    "                                 f\"I found the {key} of this {product_name} to be {criteria[0][str(criteria_scrore[0][key])]}\",\\\n",
    "                                 f\"Considering the {key}, this {product_name}, I find it {criteria[0][str(criteria_scrore[0][key])]}\"])\n",
    "        \n",
    "        inputs = tok([prefix], return_tensors=\"pt\")\n",
    "        streamer = TextStreamer(tok)\n",
    "\n",
    "        _ = model2.generate(**inputs, streamer=streamer, max_new_tokens=100)"
   ]
  },
  {
   "cell_type": "code",
   "execution_count": 1,
   "id": "e4f001bc-a0f2-4e80-9c8e-95f6a13886c7",
   "metadata": {},
   "outputs": [
    {
     "data": {
      "text/plain": [
       "True"
      ]
     },
     "execution_count": 1,
     "metadata": {},
     "output_type": "execute_result"
    }
   ],
   "source": [
    "import os\n",
    "import sys\n",
    "from dotenv import load_dotenv\n",
    "load_dotenv()"
   ]
  },
  {
   "cell_type": "markdown",
   "id": "e585b2fd-ff82-413b-ad9e-c51955eff0ed",
   "metadata": {},
   "source": [
    "## API"
   ]
  },
  {
   "cell_type": "code",
   "execution_count": 28,
   "id": "28e3061c-3699-4af2-b8f5-9f2ebe5a8e97",
   "metadata": {},
   "outputs": [],
   "source": [
    "from openai import OpenAI\n",
    "client = OpenAI()\n",
    "\n",
    "product_name = \"iphone\"\n",
    "criteria = \"camera\"\n",
    "feelings = \"very bad\"\n",
    "\n",
    "# Create a prompt including criteria and feelings\n",
    "prompt = f\"Generate a product review about the {criteria} of {product_name}  that you find {feelings}.\"\n",
    "\n",
    "response = client.chat.completions.create(\n",
    "  model=\"gpt-3.5-turbo\",\n",
    "  messages=[\n",
    "    {\"role\": \"system\", \"content\": \"As a costumer\"},\n",
    "    {\"role\": \"user\", \"content\": prompt}\n",
    "  ]\n",
    ")"
   ]
  },
  {
   "cell_type": "code",
   "execution_count": 29,
   "id": "4407234b-0e05-41f0-b0fe-4caa82b0a7a9",
   "metadata": {},
   "outputs": [
    {
     "data": {
      "text/plain": [
       "'I recently purchased the latest iPhone model and was disappointed with the camera quality. Despite the high-resolution specs advertised, the photos taken with the camera appeared grainy and lacked sharpness. The autofocus also seemed to struggle, resulting in blurry images in some cases. Additionally, the low-light performance was subpar, producing noisy and dim photos even with the night mode enabled.\\n\\nI was also disappointed by the limited manual controls available for adjusting settings such as exposure and white balance. The lack of customization options made it difficult to achieve the desired results, especially for someone with photography experience.\\n\\nOverall, I found the camera performance of the iPhone to be below my expectations, especially considering the premium price of the device. I would recommend exploring other smartphones with better camera capabilities before making a purchase decision.'"
      ]
     },
     "execution_count": 29,
     "metadata": {},
     "output_type": "execute_result"
    }
   ],
   "source": [
    "response.choices[0].message.content"
   ]
  },
  {
   "cell_type": "markdown",
   "id": "104963c9-1fb9-443e-ba2a-5defeedff70c",
   "metadata": {},
   "source": [
    "## Fine-tuning our pipe"
   ]
  },
  {
   "cell_type": "code",
   "execution_count": 31,
   "id": "4d806ff8-bfae-4a1e-9a61-2b6eeeeebfc4",
   "metadata": {},
   "outputs": [
    {
     "data": {
      "text/plain": [
       "['books', 'electronics', 'grocery', 'movies', 'restaurants', 'tripadvisor']"
      ]
     },
     "execution_count": 31,
     "metadata": {},
     "output_type": "execute_result"
    }
   ],
   "source": [
    "from datasets import get_dataset_config_names\n",
    "domain = get_dataset_config_names(\"subjqa\")\n",
    "domain"
   ]
  },
  {
   "cell_type": "code",
   "execution_count": null,
   "id": "efb612e4-a48e-4b85-8b3b-2042124ef55d",
   "metadata": {},
   "outputs": [],
   "source": []
  }
 ],
 "metadata": {
  "kernelspec": {
   "display_name": "Python 3 (ipykernel)",
   "language": "python",
   "name": "python3"
  },
  "language_info": {
   "codemirror_mode": {
    "name": "ipython",
    "version": 3
   },
   "file_extension": ".py",
   "mimetype": "text/x-python",
   "name": "python",
   "nbconvert_exporter": "python",
   "pygments_lexer": "ipython3",
   "version": "3.10.6"
  },
  "toc": {
   "base_numbering": 1,
   "nav_menu": {},
   "number_sections": true,
   "sideBar": true,
   "skip_h1_title": false,
   "title_cell": "Table of Contents",
   "title_sidebar": "Contents",
   "toc_cell": false,
   "toc_position": {},
   "toc_section_display": true,
   "toc_window_display": false
  }
 },
 "nbformat": 4,
 "nbformat_minor": 5
}
