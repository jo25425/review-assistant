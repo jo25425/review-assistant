{
 "cells": [
  {
   "cell_type": "markdown",
   "id": "450f2cb1-6ec4-4f32-85ba-cb4531a09320",
   "metadata": {},
   "source": [
    "# Review Generation"
   ]
  },
  {
   "cell_type": "code",
   "execution_count": 1,
   "id": "c2fd461c",
   "metadata": {},
   "outputs": [],
   "source": [
    "from transformers import pipeline\n",
    "from transformers import AutoModelForCausalLM, AutoTokenizer, TextStreamer,  AutoConfig, AutoModelForNextSentencePrediction\n",
    "import random"
   ]
  },
  {
   "cell_type": "markdown",
   "id": "c62874b7-20e5-443d-ad7c-761db6d55b93",
   "metadata": {},
   "source": [
    "## Model"
   ]
  },
  {
   "cell_type": "code",
   "execution_count": 9,
   "id": "f23824b4",
   "metadata": {},
   "outputs": [],
   "source": [
    "#model instantiation v1\n",
    "model1 = pipeline(\"text-generation\", model=\"openai-community/gpt2\")\n",
    "\n",
    "#model instantiation v2\n",
    "tokenizer = AutoTokenizer.from_pretrained(\"openai-community/gpt2\")\n",
    "model2 = AutoModelForCausalLM.from_pretrained(\"openai-community/gpt2\")\n"
   ]
  },
  {
   "cell_type": "code",
   "execution_count": 2,
   "id": "ddf94baa-5d31-477b-a60a-b49db6ef19ee",
   "metadata": {},
   "outputs": [],
   "source": [
    "# Download configuration from S3 and cache.\n",
    "config = AutoConfig.from_pretrained('bert-base-uncased')\n",
    "model = AutoModelForNextSentencePrediction.from_config(config)"
   ]
  },
  {
   "cell_type": "markdown",
   "id": "4c7cb4ab",
   "metadata": {},
   "source": [
    "Product name = \"\"\\\n",
    "0:Very bad\\\n",
    "1:Bad\\\n",
    "2:Not so good\\\n",
    "3:Acceptable\\\n",
    "4:Good\\\n",
    "5:Very good\\"
   ]
  },
  {
   "cell_type": "code",
   "execution_count": 3,
   "id": "53e2f6b2",
   "metadata": {},
   "outputs": [],
   "source": [
    "# transforming score into adjectives\n",
    "criteria = [{\"0\":\"Very bad\", \"1\":\"Bad\", \"2\":\"Not so good\", \"3\":\"Acceptable\", \"4\":\"Good\", \"5\":\"Very good\"}]"
   ]
  },
  {
   "cell_type": "code",
   "execution_count": 4,
   "id": "3911c917",
   "metadata": {},
   "outputs": [],
   "source": [
    "#example\n",
    "product_name = \"iphone\"\n",
    "\n",
    "#fake values\n",
    "score = [0, 1, 2, 3, 4]\n",
    "criteria_scrore = [{\"Design and Build Quality\":score[0], \"Display\":score[1], \"Performance\":score[2], \"Camera Quality\":score[3], \"Battery Life\":score[4]}]"
   ]
  },
  {
   "cell_type": "code",
   "execution_count": 6,
   "id": "50cceffe",
   "metadata": {},
   "outputs": [
    {
     "name": "stderr",
     "output_type": "stream",
     "text": [
      "Setting `pad_token_id` to `eos_token_id`:50256 for open-end generation.\n",
      "Setting `pad_token_id` to `eos_token_id`:50256 for open-end generation.\n"
     ]
    },
    {
     "name": "stdout",
     "output_type": "stream",
     "text": [
      "In terms of Design and Build Quality, this iphone is Very bad. No performance, no ergonomics and no functional form factors. It isn't comfortable as it likes to be, it's a terrible build. It feels like they just\n"
     ]
    },
    {
     "name": "stderr",
     "output_type": "stream",
     "text": [
      "Setting `pad_token_id` to `eos_token_id`:50256 for open-end generation.\n"
     ]
    },
    {
     "name": "stdout",
     "output_type": "stream",
     "text": [
      "I found the Display of this iphone to be Bad news. On the very first try i tried the 3.x screen from a 4.5″ iMac, when i tried the 6.5″ iMac it worked but with all\n"
     ]
    },
    {
     "name": "stderr",
     "output_type": "stream",
     "text": [
      "Setting `pad_token_id` to `eos_token_id`:50256 for open-end generation.\n"
     ]
    },
    {
     "name": "stdout",
     "output_type": "stream",
     "text": [
      "The Performance of this iphone is Not so good, is it for nothing, and what has been the most difficult, if not the most complex of all, tests?\"\n",
      "\n",
      "\"Perhaps a rather small one?\"\n",
      "\n",
      "As she said this\n"
     ]
    },
    {
     "name": "stderr",
     "output_type": "stream",
     "text": [
      "Setting `pad_token_id` to `eos_token_id`:50256 for open-end generation.\n"
     ]
    },
    {
     "name": "stdout",
     "output_type": "stream",
     "text": [
      "Considering the Camera Quality, this iphone, I find it Acceptable, it's a tad slow. However, it's an iphone that really could be an iphone with a wide lens. It's also a fairly cheap model\n",
      "In terms of Battery Life, this iphone is Good for: 1,200. You never know, they may even run you through that hefty charge!\n",
      "\n",
      "\n",
      "This device has a small battery that doesn't always last very long. You will\n"
     ]
    }
   ],
   "source": [
    "#text generation v1\n",
    "\n",
    "for key, value in criteria_scrore[0].items():\n",
    "        #we probably need to extend this list to avoid redundances when a user comes several times.\n",
    "        int_prefix = random.choice([f\"The {key} of this {product_name} is {criteria[0][str(criteria_scrore[0][key])]}\",\\\n",
    "                                 f\"In terms of {key}, this {product_name} is {criteria[0][str(criteria_scrore[0][key])]}\",\\\n",
    "                                 f\"I found the {key} of this {product_name} to be {criteria[0][str(criteria_scrore[0][key])]}\",\\\n",
    "                                 f\"Considering the {key}, this {product_name}, I find it {criteria[0][str(criteria_scrore[0][key])]}\"])\n",
    "        \n",
    "        generated_text = model1(int_prefix)\n",
    "        print(generated_text[0]['generated_text']) \n"
   ]
  },
  {
   "cell_type": "code",
   "execution_count": 10,
   "id": "b1708619",
   "metadata": {},
   "outputs": [
    {
     "name": "stderr",
     "output_type": "stream",
     "text": [
      "Setting `pad_token_id` to `eos_token_id`:50256 for open-end generation.\n"
     ]
    },
    {
     "name": "stdout",
     "output_type": "stream",
     "text": [
      "In terms of Design and Build Quality, this iphone is Very bad. The build quality is poor, the build quality is poor, and the build quality is poor. The build quality is poor, the build quality is poor, and the build quality is poor. The build quality is poor, the build quality is poor, and the build quality is poor. The build quality is poor, the build quality is poor, and the build quality is poor. The build quality is poor, the build quality is poor, and the build quality is poor. The build quality is\n"
     ]
    },
    {
     "name": "stderr",
     "output_type": "stream",
     "text": [
      "Setting `pad_token_id` to `eos_token_id`:50256 for open-end generation.\n"
     ]
    },
    {
     "name": "stdout",
     "output_type": "stream",
     "text": [
      "Considering the Display, this iphone, I find it Bad.\n",
      "\n",
      "The display is a bit of a mess. The screen is a bit too small, and the display is a bit too big. The screen is a bit too small, and the display is a bit too big.\n",
      "\n",
      "The screen is a bit too small, and the display is a bit too big.\n",
      "\n",
      "The screen is a bit too small, and the display is a bit too big.\n",
      "\n",
      "The screen is a bit too small, and the display is a bit\n"
     ]
    },
    {
     "name": "stderr",
     "output_type": "stream",
     "text": [
      "Setting `pad_token_id` to `eos_token_id`:50256 for open-end generation.\n"
     ]
    },
    {
     "name": "stdout",
     "output_type": "stream",
     "text": [
      "I found the Performance of this iphone to be Not so good. The battery life is not great, but it is not bad. The screen is very bright and the sound is very good. The camera is very good, but the sound is not so good. The camera is very good, but the sound is not so good. The battery life is not great, but it is not bad. The screen is very bright and the sound is very good. The battery life is not great, but it is not bad. The camera is very good, but the\n"
     ]
    },
    {
     "name": "stderr",
     "output_type": "stream",
     "text": [
      "Setting `pad_token_id` to `eos_token_id`:50256 for open-end generation.\n"
     ]
    },
    {
     "name": "stdout",
     "output_type": "stream",
     "text": [
      "The Camera Quality of this iphone is Acceptable.\n",
      "\n",
      "The Camera Quality of this iphone is Acceptable. The Camera Quality of this iphone is Not Acceptable.\n",
      "\n",
      "The Camera Quality of this iphone is Not Acceptable. The Camera Quality of this iphone is Not Acceptable.\n",
      "\n",
      "The Camera Quality of this iphone is Not Acceptable. The Camera Quality of this iphone is Not Acceptable.\n",
      "\n",
      "The Camera Quality of this iphone is Not Acceptable. The\n"
     ]
    },
    {
     "name": "stderr",
     "output_type": "stream",
     "text": [
      "Setting `pad_token_id` to `eos_token_id`:50256 for open-end generation.\n"
     ]
    },
    {
     "name": "stdout",
     "output_type": "stream",
     "text": [
      "The Battery Life of this iphone is Good\n",
      "\n",
      "The battery life of this iphone is Good\n",
      "\n",
      "The battery life of this iphone is Good\n",
      "\n",
      "The battery life of this iphone is Good\n",
      "\n",
      "The battery life of this iphone is Good\n",
      "\n",
      "The battery life of this iphone is Good\n",
      "\n",
      "The battery life of this iphone is Good\n",
      "\n",
      "The battery life of this iphone is Good\n",
      "\n",
      "The battery life of this iphone is Good\n",
      "\n",
      "The battery\n"
     ]
    }
   ],
   "source": [
    "#text generation v2\n",
    "\n",
    "for key, value in criteria_scrore[0].items():\n",
    "        prefix = random.choice([f\"The {key} of this {product_name} is {criteria[0][str(criteria_scrore[0][key])]}\",\\\n",
    "                                 f\"In terms of {key}, this {product_name} is {criteria[0][str(criteria_scrore[0][key])]}\",\\\n",
    "                                 f\"I found the {key} of this {product_name} to be {criteria[0][str(criteria_scrore[0][key])]}\",\\\n",
    "                                 f\"Considering the {key}, this {product_name}, I find it {criteria[0][str(criteria_scrore[0][key])]}\"])\n",
    "        \n",
    "        inputs = tokenizer([prefix], return_tensors=\"pt\")\n",
    "        streamer = TextStreamer(tok)\n",
    "\n",
    "        _ = model2.generate(**inputs, streamer=streamer, max_new_tokens=100)"
   ]
  },
  {
   "cell_type": "code",
   "execution_count": null,
   "id": "15910053-8cad-487d-93e2-1d7d5a922aa5",
   "metadata": {},
   "outputs": [],
   "source": []
  },
  {
   "cell_type": "code",
   "execution_count": 18,
   "id": "e4f001bc-a0f2-4e80-9c8e-95f6a13886c7",
   "metadata": {},
   "outputs": [
    {
     "data": {
      "text/plain": [
       "True"
      ]
     },
     "execution_count": 18,
     "metadata": {},
     "output_type": "execute_result"
    }
   ],
   "source": [
    "import os\n",
    "import sys\n",
    "from dotenv import load_dotenv\n",
    "load_dotenv()"
   ]
  },
  {
   "cell_type": "markdown",
   "id": "e585b2fd-ff82-413b-ad9e-c51955eff0ed",
   "metadata": {},
   "source": [
    "## API"
   ]
  },
  {
   "cell_type": "code",
   "execution_count": 19,
   "id": "28e3061c-3699-4af2-b8f5-9f2ebe5a8e97",
   "metadata": {},
   "outputs": [],
   "source": [
    "from openai import OpenAI\n",
    "client = OpenAI()\n",
    "\n",
    "product_name = \"iphone\"\n",
    "criteria = \"camera\"\n",
    "feelings = \"very bad\"\n",
    "\n",
    "# Create a prompt including criteria and feelings\n",
    "prompt = f\"Generate a product review about the {criteria} of {product_name}  that you find {feelings}.\"\n",
    "\n",
    "response = client.chat.completions.create(\n",
    "  model=\"gpt-3.5-turbo\",\n",
    "  messages=[\n",
    "    {\"role\": \"system\", \"content\": \"As a costumer\"},\n",
    "    {\"role\": \"user\", \"content\": prompt}\n",
    "  ]\n",
    ")"
   ]
  },
  {
   "cell_type": "code",
   "execution_count": 20,
   "id": "4407234b-0e05-41f0-b0fe-4caa82b0a7a9",
   "metadata": {},
   "outputs": [
    {
     "data": {
      "text/plain": [
       "\"I recently purchased the latest model of the iPhone, and I must say I am extremely disappointed with the camera quality. Despite the high price tag and the brand's reputation for top-notch technology, the camera on this device has been a major letdown.\\n\\nThe images captured are often blurry and lack sharpness, even in well-lit environments. The colors appear muted and washed out, making pictures look dull and unimpressive. Additionally, the low-light performance is subpar, resulting in grainy and noisy photos that are far from the crisp and clear images I was expecting.\\n\\nThe overall user experience with the camera app is also frustrating, with slow autofocus and shutter lag causing missed moments and blurred shots. The lack of manual controls and limited customization options further hinder the camera's performance, making it difficult to achieve the desired results.\\n\\nIn conclusion, I would not recommend the iPhone camera to anyone looking for high-quality photography capabilities. It falls short in comparison to other smartphones on the market, and for the price point, I expected much better performance. Ultimately, I am disappointed with the camera on this device and wish I had chosen a different phone with a better camera.\""
      ]
     },
     "execution_count": 20,
     "metadata": {},
     "output_type": "execute_result"
    }
   ],
   "source": [
    "response.choices[0].message.content"
   ]
  },
  {
   "cell_type": "markdown",
   "id": "0e92716c-a04b-4204-bb78-250c5b90a51e",
   "metadata": {},
   "source": [
    "## Langchain"
   ]
  },
  {
   "cell_type": "code",
   "execution_count": 21,
   "id": "efb612e4-a48e-4b85-8b3b-2042124ef55d",
   "metadata": {},
   "outputs": [],
   "source": [
    "from langchain import PromptTemplate\n",
    "from langchain.llms import OpenAI"
   ]
  },
  {
   "cell_type": "code",
   "execution_count": 27,
   "id": "8f65a50b-b7e1-4cb9-9131-6f2dcffd52d3",
   "metadata": {},
   "outputs": [],
   "source": [
    "llm = OpenAI(temperature=0.9) #model_name = \"text-davinci-003\""
   ]
  },
  {
   "cell_type": "markdown",
   "id": "84d32314-605e-4a18-84b8-2853439fe1b0",
   "metadata": {},
   "source": [
    "We can use prompt template to:\n",
    "+  Intruct the Language Model\n",
    "+ set a few shot examples to help the Language model generate a better response\n",
    "+ ask questions to the Language model"
   ]
  },
  {
   "cell_type": "code",
   "execution_count": 41,
   "id": "2b55fa51-6171-4650-abf8-9e3d3a46e645",
   "metadata": {},
   "outputs": [],
   "source": [
    "template = \"{adjective} {product_name}: My {adjective} {product_name} has one of the {adjective} {criteria} of her generation.\\\n",
    "            I have used this {product_name} for YEARS and I still {feelings}\""
   ]
  },
  {
   "cell_type": "code",
   "execution_count": 42,
   "id": "c40725bd-5573-423a-a20b-9c877d657648",
   "metadata": {},
   "outputs": [],
   "source": [
    "prompt = PromptTemplate(\n",
    "    input_variables = [ \"product_name\", \"criteria\", \"adjective\", \"feelings\"],\n",
    "    template = template\n",
    ")"
   ]
  },
  {
   "cell_type": "code",
   "execution_count": 43,
   "id": "04dc0cfb-03c5-4ecd-ad87-792829e113fe",
   "metadata": {},
   "outputs": [
    {
     "data": {
      "text/plain": [
       "\" with its camera quality. It takes blurry and grainy pictures even in well-lit environments and the colors are not true to life. The front-facing camera is even worse, making my selfies look distorted and unnatural. I have tried resetting the phone, cleaning the lens, and updating the software but nothing seems to improve the camera. It's frustrating because I often miss out on capturing important moments because of the poor camera quality. Overall, I regret purchasing this model and I would not recommend it to anyone looking for a good camera phone.\""
      ]
     },
     "execution_count": 43,
     "metadata": {},
     "output_type": "execute_result"
    }
   ],
   "source": [
    "llm(prompt.format(product_name=\"iphone\", criteria=\"camera\", adjective=\"bad\", feelings = \"not happy\"))"
   ]
  },
  {
   "cell_type": "markdown",
   "id": "b791361a-c181-439e-8669-a3f9cbd52df8",
   "metadata": {},
   "source": [
    "## To be Discussed"
   ]
  },
  {
   "cell_type": "markdown",
   "id": "541a19b0-dc71-4331-bca0-bfd8296de4d1",
   "metadata": {},
   "source": [
    "+ Given that a product review is very subjective, we could ask the user if he/she wants to provide a recommendation.\n",
    "+ It is better to avoid negativity.\n",
    "+ The user should meet a few but import prerequisite. For example, one shouldn't review his own product or any product from similar company. In other words the user should be related in one way or the other with the seller of manufacturer."
   ]
  },
  {
   "cell_type": "code",
   "execution_count": null,
   "id": "67406bb9-6436-481b-97fe-870388d851b3",
   "metadata": {},
   "outputs": [],
   "source": []
  }
 ],
 "metadata": {
  "kernelspec": {
   "display_name": "Python 3 (ipykernel)",
   "language": "python",
   "name": "python3"
  },
  "language_info": {
   "codemirror_mode": {
    "name": "ipython",
    "version": 3
   },
   "file_extension": ".py",
   "mimetype": "text/x-python",
   "name": "python",
   "nbconvert_exporter": "python",
   "pygments_lexer": "ipython3",
   "version": "3.10.6"
  },
  "toc": {
   "base_numbering": 1,
   "nav_menu": {},
   "number_sections": true,
   "sideBar": true,
   "skip_h1_title": false,
   "title_cell": "Table of Contents",
   "title_sidebar": "Contents",
   "toc_cell": false,
   "toc_position": {},
   "toc_section_display": true,
   "toc_window_display": false
  }
 },
 "nbformat": 4,
 "nbformat_minor": 5
}
