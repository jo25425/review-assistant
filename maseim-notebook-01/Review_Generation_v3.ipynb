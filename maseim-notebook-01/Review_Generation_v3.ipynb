{
 "cells": [
  {
   "cell_type": "code",
   "execution_count": 1,
   "id": "b170d284-5223-4390-84bc-17797259e486",
   "metadata": {},
   "outputs": [],
   "source": [
    "import os\n",
    "import sys\n",
    "from dotenv import load_dotenv\n",
    "load_dotenv()\n",
    "\n",
    "from langchain import PromptTemplate\n",
    "from langchain.llms import OpenAI"
   ]
  },
  {
   "cell_type": "code",
   "execution_count": 49,
   "id": "93fed3e5-149a-46ae-998c-211ba2df05f5",
   "metadata": {},
   "outputs": [],
   "source": [
    "def ReviewGeneration(product_name, input_criteria_score : dict) -> None:\n",
    "    \"\"\"\n",
    "    This function expects a dictionary of the form:\n",
    "    input_criteria_score = [{\"criteria_0\":score_0}, {\"criteria_1\":score_1}, ...., {\"criteria_n\":score_n}]\n",
    "    if not, this function returns None.\n",
    "    \"\"\"\n",
    "    # Global Variables\n",
    "    N = len(input_criteria_score[0]) #number of criteria\n",
    "\n",
    "    # transforming score into adjectives\n",
    "    criteria = [{\"0\":\"Very bad\", \"1\":\"Bad\", \"2\":\"Not so good\", \"3\":\"Acceptable\", \"4\":\"Good\", \"5\":\"Very good\"}]\n",
    "\n",
    "    # Decompressing input_criteria_score dictionary\n",
    "    prefix = []\n",
    "    input_criteria = []\n",
    "    input_adjectives = []\n",
    "    for key, value in input_criteria_score[0].items():\n",
    "        input_criteria.append(key)\n",
    "        input_adjectives.append(criteria[0][str(input_criteria_score[0][key])])\n",
    "        pref = f\"{key}:{criteria[0][str(input_criteria_score[0][key])]}\"\n",
    "        prefix.append(pref)\n",
    "\n",
    "    # Criteria, Adjective and Feeling lists\n",
    "    criteria_list, adjective_list, feeling_list = [f\"criteria_{n}\" for n in range(N)],\\\n",
    "                                                  [f\"adjective_{n}\" for n in range(N)],\\\n",
    "                                                  [f\"feeling_{n}\" for n in range(N)]\n",
    "\n",
    "       \n",
    "    # template for PromptTemplate()\n",
    "    def template(prefix):\n",
    "        \"\"\"\n",
    "            This function build a template with a set of instructions to be passed to the model.\n",
    "        \"\"\"\n",
    "        temp = f\" You are a costumer. I want you to generate a product review on {product_name}\\\n",
    "               considering the following criteria: {prefix}. Be precise and concise.\"\n",
    "\n",
    "        return temp\n",
    "    \n",
    "    template = template(prefix)\n",
    "\n",
    "    #input variables for PromptTemplate()\n",
    "    def input_variable(product_name, criteria_list,  adjective_list,  feeling_list=None,  **kwargs):\n",
    "        \"\"\"\n",
    "            This function builds the input_variables necessary for the PromptTemplate()\n",
    "            Here, we have made feeling_list optional. input_variable() can be called without it!\n",
    "        \"\"\"\n",
    "        if feeling_list is not None:\n",
    "            input_var = [f\"{product_name}\"] + criteria_list + adjective_list + feeling_list\n",
    "        else:\n",
    "            input_var = [f\"{product_name}\"] + criteria_list + adjective_list\n",
    "\n",
    "        return input_var\n",
    "\n",
    "    #instantiating input_variable()\n",
    "    input_variables = input_variable(product_name, criteria_list,  adjective_list)\n",
    "\n",
    "    #instantiating the model\n",
    "    llm = OpenAI(temperature=0.9)\n",
    "\n",
    "    # building the prompt\n",
    "    prompt = PromptTemplate(\n",
    "        input_variables = input_variables,\n",
    "        template = template\n",
    "            )\n",
    "    def Prompt(**kwargs):\n",
    "        if N == 1:\n",
    "            response = llm(prompt.format(criteria_0=input_criteria[0], adjective_0=input_adjectives[0])                  \n",
    "                          )\n",
    "        if N == 2:\n",
    "            response = llm(prompt.format(criteria_0=input_criteria[0], criteria_1=input_criteria[1],\n",
    "                          adjective_0=input_adjectives[0], adjective_1=input_adjectives[1])                          \n",
    "                          )\n",
    "        if N == 3:\n",
    "            response = llm(prompt.format(criteria_0=input_criteria[0], criteria_1=input_criteria[1], criteria_2=input_criteria[2],\\\n",
    "                          adjective_0=input_adjectives[0], adjective_1=input_adjectives[1], adjective_2=input_adjectives[2])                          \n",
    "                          )\n",
    "        if N == 4:\n",
    "            response = llm(prompt.format(criteria_0=input_criteria[0], criteria_1=input_criteria[1], criteria_2=input_criteria[2], criteria_3=input_criteria[3],\\\n",
    "                          adjective_0=input_adjectives[0], adjective_1=input_adjectives[1], adjective_2=input_adjectives[2], adjective_3=input_adjectives[3])                          \n",
    "                          )\n",
    "        if N == 5:\n",
    "            response = llm(prompt.format(criteria_0=input_criteria[0], criteria_1=input_criteria[1], criteria_2=input_criteria[2], criteria_3=input_criteria[3], criteria_4=input_criteria[4],\\\n",
    "                          adjective_0=input_adjectives[0], adjective_1=input_adjectives[1], adjective_2=input_adjectives[2], adjective_3=input_adjectives[3], adjective_4=input_adjectives[4])                          \n",
    "                          )\n",
    "        \n",
    "        return response\n",
    "\n",
    "    review_generation = Prompt()\n",
    "    return review_generation"
   ]
  },
  {
   "cell_type": "code",
   "execution_count": 50,
   "id": "7782cc85-c7ef-498f-b1ca-cb95651b3526",
   "metadata": {},
   "outputs": [],
   "source": [
    "#example\n",
    "product_name = \"iphone\"\n",
    "\n",
    "#fake values\n",
    "score = [0, 4, 2, 3, 1]\n",
    "criteria_score = [{\"Design and Build Quality\":score[0], \"Display\":score[1], \"Performance\":score[2], \"Camera Quality\":score[3], \"Battery Life\":score[4]}]"
   ]
  },
  {
   "cell_type": "code",
   "execution_count": 51,
   "id": "0ac5ce7d-a744-4a77-b53c-0a96787e0391",
   "metadata": {},
   "outputs": [
    {
     "data": {
      "text/plain": [
       "\"\\n\\nI recently purchased the iPhone and I must say, I am quite disappointed with the design and build quality. It feels flimsy and cheap, definitely not worth the price I paid for it. However, the display is good and the colors are vibrant, so that's a plus.\\n\\nWhen it comes to performance, I have to say it's not so good. Apps often freeze and it takes forever to load anything. This can be quite frustrating, especially when I need to get things done quickly.\\n\\nThe camera quality is acceptable, but nothing to write home about. It takes decent pictures in good lighting, but the photos tend to be grainy in low light situations. As for battery life, it's bad. I find myself constantly needing to charge my phone throughout the day, which can be a hassle.\\n\\nIn conclusion, while the iPhone may have a good display and acceptable camera quality, the overall design and build quality, performance, and battery life do not meet my expectations. I am disappointed with my purchase and would not recommend it to others.\""
      ]
     },
     "execution_count": 51,
     "metadata": {},
     "output_type": "execute_result"
    }
   ],
   "source": [
    "ReviewGeneration(product_name, criteria_score)"
   ]
  },
  {
   "cell_type": "code",
   "execution_count": 52,
   "id": "c44e2354-5a01-4dbf-8129-7f550aa233b4",
   "metadata": {},
   "outputs": [],
   "source": [
    "#example\n",
    "product_name = \"jeans\"\n",
    "\n",
    "score = [4, 3, 2, 3, 0]\n",
    "criteria_score = [{\n",
    "        \"Design\": score[0],\n",
    "        \"Comfort\": score[1],\n",
    "        \"Durability\": score[2],\n",
    "        \"Fit\": score[3],\n",
    "        \"Price\": score[4]\n",
    "    }]"
   ]
  },
  {
   "cell_type": "code",
   "execution_count": 53,
   "id": "fbacc51d-0e9d-4d90-bd30-37259f66e9fd",
   "metadata": {},
   "outputs": [
    {
     "data": {
      "text/plain": [
       "\"\\n\\nI recently purchased a pair of jeans with high expectations, given the brand's reputation for quality. However, after trying them on and wearing them for a few weeks, I have mixed feelings about the product.\\n\\nStarting with the design, I have to say it's good. The jeans have a classic style that can be dressed up or down, and the wash is exactly what I was looking for. I appreciate the attention to detail in the stitching and overall construction.\\n\\nIn terms of comfort, I would say it is acceptable. While the material is soft and the jeans have a slight stretch, they seem to be a bit too tight in some areas and too loose in others. I was hoping for a more tailored fit, but unfortunately, that's not the case.\\n\\nThe biggest disappointment for me is the durability. I've only had these jeans for a few weeks, and I'm already seeing signs of wear and tear. The fabric is thin and doesn't seem like it will hold up well over time. I'm worried that I'll have to replace them sooner than I had hoped.\\n\\nIn terms of fit, I would say it's also acceptable. As mentioned before, there are some areas where the jeans fit well, but overall, it's not the perfect fit I was looking\""
      ]
     },
     "execution_count": 53,
     "metadata": {},
     "output_type": "execute_result"
    }
   ],
   "source": [
    "ReviewGeneration(product_name, criteria_score)"
   ]
  },
  {
   "cell_type": "code",
   "execution_count": null,
   "id": "cccbd48c-0a36-4e3f-8d9e-897db8dc8a76",
   "metadata": {},
   "outputs": [],
   "source": []
  }
 ],
 "metadata": {
  "kernelspec": {
   "display_name": "Python 3 (ipykernel)",
   "language": "python",
   "name": "python3"
  },
  "language_info": {
   "codemirror_mode": {
    "name": "ipython",
    "version": 3
   },
   "file_extension": ".py",
   "mimetype": "text/x-python",
   "name": "python",
   "nbconvert_exporter": "python",
   "pygments_lexer": "ipython3",
   "version": "3.10.6"
  }
 },
 "nbformat": 4,
 "nbformat_minor": 5
}
