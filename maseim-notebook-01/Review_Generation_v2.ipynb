{
 "cells": [
  {
   "cell_type": "markdown",
   "id": "450f2cb1-6ec4-4f32-85ba-cb4531a09320",
   "metadata": {},
   "source": [
    "# Review Generation"
   ]
  },
  {
   "cell_type": "code",
   "execution_count": 1,
   "id": "c2fd461c",
   "metadata": {},
   "outputs": [],
   "source": [
    "from transformers import pipeline\n",
    "from transformers import AutoModelForCausalLM, AutoTokenizer, TextStreamer,  AutoConfig, AutoModelForNextSentencePrediction\n",
    "import random"
   ]
  },
  {
   "cell_type": "markdown",
   "id": "c62874b7-20e5-443d-ad7c-761db6d55b93",
   "metadata": {},
   "source": [
    "## Model"
   ]
  },
  {
   "cell_type": "markdown",
   "id": "4c7cb4ab",
   "metadata": {},
   "source": [
    "Product name = \"\"\\\n",
    "0:Very bad\\\n",
    "1:Bad\\\n",
    "2:Not so good\\\n",
    "3:Acceptable\\\n",
    "4:Good\\\n",
    "5:Very good\\"
   ]
  },
  {
   "cell_type": "code",
   "execution_count": 57,
   "id": "53e2f6b2",
   "metadata": {},
   "outputs": [],
   "source": [
    "# transforming score into adjectives\n",
    "criteria = [{\"0\":\"Very bad\", \"1\":\"Bad\", \"2\":\"Not so good\", \"3\":\"Acceptable\", \"4\":\"Good\", \"5\":\"Very good\"}]"
   ]
  },
  {
   "cell_type": "code",
   "execution_count": 79,
   "id": "3911c917",
   "metadata": {},
   "outputs": [],
   "source": [
    "#example\n",
    "product_name = \"iphone\"\n",
    "\n",
    "#fake values\n",
    "score = [0, 1, 2, 3, 4]\n",
    "criteria_score = [{\"Design and Build Quality\":score[0], \"Display\":score[1], \"Performance\":score[2], \"Camera Quality\":score[3], \"Battery Life\":score[4]}]"
   ]
  },
  {
   "cell_type": "code",
   "execution_count": 18,
   "id": "e4f001bc-a0f2-4e80-9c8e-95f6a13886c7",
   "metadata": {},
   "outputs": [
    {
     "data": {
      "text/plain": [
       "True"
      ]
     },
     "execution_count": 18,
     "metadata": {},
     "output_type": "execute_result"
    }
   ],
   "source": [
    "import os\n",
    "import sys\n",
    "from dotenv import load_dotenv\n",
    "load_dotenv()"
   ]
  },
  {
   "cell_type": "markdown",
   "id": "e585b2fd-ff82-413b-ad9e-c51955eff0ed",
   "metadata": {},
   "source": [
    "## API"
   ]
  },
  {
   "cell_type": "code",
   "execution_count": 19,
   "id": "28e3061c-3699-4af2-b8f5-9f2ebe5a8e97",
   "metadata": {},
   "outputs": [],
   "source": [
    "from openai import OpenAI\n",
    "client = OpenAI()\n",
    "\n",
    "product_name = \"iphone\"\n",
    "criteria = \"camera\"\n",
    "feelings = \"very bad\"\n",
    "\n",
    "# Create a prompt including criteria and feelings\n",
    "prompt = f\"Generate a product review about the {criteria} of {product_name}  that you find {feelings}.\"\n",
    "\n",
    "response = client.chat.completions.create(\n",
    "  model=\"gpt-3.5-turbo\",\n",
    "  messages=[\n",
    "    {\"role\": \"system\", \"content\": \"As a costumer\"},\n",
    "    {\"role\": \"user\", \"content\": prompt}\n",
    "  ]\n",
    ")"
   ]
  },
  {
   "cell_type": "code",
   "execution_count": 20,
   "id": "4407234b-0e05-41f0-b0fe-4caa82b0a7a9",
   "metadata": {},
   "outputs": [
    {
     "data": {
      "text/plain": [
       "\"I recently purchased the latest model of the iPhone, and I must say I am extremely disappointed with the camera quality. Despite the high price tag and the brand's reputation for top-notch technology, the camera on this device has been a major letdown.\\n\\nThe images captured are often blurry and lack sharpness, even in well-lit environments. The colors appear muted and washed out, making pictures look dull and unimpressive. Additionally, the low-light performance is subpar, resulting in grainy and noisy photos that are far from the crisp and clear images I was expecting.\\n\\nThe overall user experience with the camera app is also frustrating, with slow autofocus and shutter lag causing missed moments and blurred shots. The lack of manual controls and limited customization options further hinder the camera's performance, making it difficult to achieve the desired results.\\n\\nIn conclusion, I would not recommend the iPhone camera to anyone looking for high-quality photography capabilities. It falls short in comparison to other smartphones on the market, and for the price point, I expected much better performance. Ultimately, I am disappointed with the camera on this device and wish I had chosen a different phone with a better camera.\""
      ]
     },
     "execution_count": 20,
     "metadata": {},
     "output_type": "execute_result"
    }
   ],
   "source": [
    "response.choices[0].message.content"
   ]
  },
  {
   "cell_type": "markdown",
   "id": "0e92716c-a04b-4204-bb78-250c5b90a51e",
   "metadata": {},
   "source": [
    "## Langchain"
   ]
  },
  {
   "cell_type": "code",
   "execution_count": 21,
   "id": "efb612e4-a48e-4b85-8b3b-2042124ef55d",
   "metadata": {},
   "outputs": [],
   "source": [
    "from langchain import PromptTemplate\n",
    "from langchain.llms import OpenAI"
   ]
  },
  {
   "cell_type": "code",
   "execution_count": 27,
   "id": "8f65a50b-b7e1-4cb9-9131-6f2dcffd52d3",
   "metadata": {},
   "outputs": [],
   "source": [
    "llm = OpenAI(temperature=0.9) #model_name = \"text-davinci-003\""
   ]
  },
  {
   "cell_type": "markdown",
   "id": "84d32314-605e-4a18-84b8-2853439fe1b0",
   "metadata": {},
   "source": [
    "We can use prompt template to:\n",
    "+  Intruct the Language Model\n",
    "+ set a few shot examples to help the Language model generate a better response\n",
    "+ ask questions to the Language model"
   ]
  },
  {
   "cell_type": "code",
   "execution_count": 41,
   "id": "2b55fa51-6171-4650-abf8-9e3d3a46e645",
   "metadata": {},
   "outputs": [],
   "source": [
    "template = \"{adjective} {product_name}: My {adjective} {product_name} has one of the {adjective} {criteria} of her generation.\\\n",
    "            I have used this {product_name} for YEARS and I still {feelings}\""
   ]
  },
  {
   "cell_type": "code",
   "execution_count": null,
   "id": "26b3746c-0115-4107-bdfe-acf57beaed1e",
   "metadata": {},
   "outputs": [],
   "source": [
    "prompt = PromptTemplate(\n",
    "    input_variables = [ \"product_name\", \"criteria\", \"adjective\", \"feelings\"],\n",
    "    template = template\n",
    ")\n",
    "\n",
    "llm(prompt.format(product_name=\"iphone\", criteria=\"camera\", adjective=\"bad\", feelings = \"not happy\"))"
   ]
  },
  {
   "cell_type": "code",
   "execution_count": 73,
   "id": "0b3ad7d3-8546-4ab5-b319-6aa80ab2e01e",
   "metadata": {},
   "outputs": [],
   "source": []
  },
  {
   "cell_type": "code",
   "execution_count": 125,
   "id": "d6706bef-5ed1-4192-9430-0739ef3fa4b2",
   "metadata": {},
   "outputs": [
    {
     "data": {
      "text/plain": [
       "['criteria_0', 'criteria_1', 'criteria_2', 'criteria_3', 'criteria_4']"
      ]
     },
     "execution_count": 125,
     "metadata": {},
     "output_type": "execute_result"
    }
   ],
   "source": [
    "# Criteria list\n",
    "\n",
    "criteria_list = [f\"criteria_{n}\" for n in range(len(criteria_score[0]))]\n",
    "criteria_list"
   ]
  },
  {
   "cell_type": "code",
   "execution_count": 137,
   "id": "48ba4ece-5526-4efd-b0aa-9f0967982405",
   "metadata": {},
   "outputs": [
    {
     "data": {
      "text/plain": [
       "['adjective_0', 'adjective_1', 'adjective_2', 'adjective_3', 'adjective_4']"
      ]
     },
     "execution_count": 137,
     "metadata": {},
     "output_type": "execute_result"
    }
   ],
   "source": [
    "# Adjective list\n",
    "\n",
    "adjective_list = [f\"adjective_{n}\" for n in range(len(criteria_score[0]))]\n",
    "adjective_list"
   ]
  },
  {
   "cell_type": "code",
   "execution_count": 138,
   "id": "8494a126-1d8a-4a2a-8eeb-d43f929e6969",
   "metadata": {},
   "outputs": [
    {
     "data": {
      "text/plain": [
       "['feeling_0', 'feeling_1', 'feeling_2', 'feeling_3', 'feeling_4']"
      ]
     },
     "execution_count": 138,
     "metadata": {},
     "output_type": "execute_result"
    }
   ],
   "source": [
    "# Feeling list\n",
    "\n",
    "feeling_list = [f\"feeling_{n}\" for n in range(len(criteria_score[0]))]\n",
    "feeling_list"
   ]
  },
  {
   "cell_type": "code",
   "execution_count": 139,
   "id": "b250a85b-dd3f-42f3-bd10-6b7b40fe4620",
   "metadata": {},
   "outputs": [
    {
     "data": {
      "text/plain": [
       "[{'criteria_0': 0,\n",
       "  'criteria_1': 1,\n",
       "  'criteria_2': 2,\n",
       "  'criteria_3': 3,\n",
       "  'criteria_4': 4}]"
      ]
     },
     "execution_count": 139,
     "metadata": {},
     "output_type": "execute_result"
    }
   ],
   "source": [
    "# Dictionary score\n",
    "\n",
    "Criteria_Score = [{}]\n",
    "\n",
    "for  value, key in enumerate(criteria_list):\n",
    "    Criteria_Score[0][key] = score[value]\n",
    "\n",
    "Criteria_Score"
   ]
  },
  {
   "cell_type": "code",
   "execution_count": 140,
   "id": "8726cf81-78c5-4e3b-8ea0-5ec0e1cc6126",
   "metadata": {},
   "outputs": [],
   "source": [
    "# template for PromptTemplate()\n",
    "\n",
    "def template(criteria, Criteria_Score):\n",
    "    prefix = []\n",
    "    for key, value in Criteria_Score[0].items():\n",
    "        pref = f\"{key}:{criteria[0][str(Criteria_Score[0][key])]}\"\n",
    "        prefix.append(pref)\n",
    "\n",
    "    temp = f\" You are a costumer. I want you to generate a product review on {product_name} considering  the following criteria: {prefix}.\\\n",
    "    Be precise and concise.\"\n",
    "    \n",
    "    return temp"
   ]
  },
  {
   "cell_type": "code",
   "execution_count": 141,
   "id": "be4caf61-931f-4c2b-bcf7-f52a3d1a6f37",
   "metadata": {},
   "outputs": [
    {
     "data": {
      "text/plain": [
       "\" You are a costumer. I want you to generate a product review on iphone considering  the following criteria: ['Design and Build Quality:Very bad', 'Display:Bad', 'Performance:Not so good', 'Camera Quality:Acceptable', 'Battery Life:Good'].    Be precise and concise.\""
      ]
     },
     "execution_count": 141,
     "metadata": {},
     "output_type": "execute_result"
    }
   ],
   "source": [
    "template = template(criteria, criteria_score)\n",
    "template"
   ]
  },
  {
   "cell_type": "code",
   "execution_count": 178,
   "id": "6599e219-21d4-423e-b456-f825f955915c",
   "metadata": {},
   "outputs": [],
   "source": [
    "#input variables\n",
    "\n",
    "def input_variable(product_name1, criteria_list,  adjective_list,  feeling_list=None,  **kwargs):\n",
    "\n",
    "    # Here we have made feeling_list optional. The function can be called without it!\n",
    "    \n",
    "    if feeling_list is not None:\n",
    "        input_var = [f\"{product_name1}\"] + criteria_list + adjective_list + feeling_list\n",
    "    else: \n",
    "        input_var = [f\"{product_name1}\"] + criteria_list + adjective_list\n",
    "        \n",
    "    return input_var"
   ]
  },
  {
   "cell_type": "code",
   "execution_count": 180,
   "id": "69465ff1-2042-476e-aaaf-31abd71cda8d",
   "metadata": {},
   "outputs": [
    {
     "name": "stdout",
     "output_type": "stream",
     "text": [
      "['iphone', 'criteria_0', 'criteria_1', 'criteria_2', 'criteria_3', 'criteria_4', 'adjective_0', 'adjective_1', 'adjective_2', 'adjective_3', 'adjective_4']\n"
     ]
    }
   ],
   "source": [
    "input_variables = input_variable(product_name, criteria_list,  adjective_list)\n",
    "print(input_variables)"
   ]
  },
  {
   "cell_type": "code",
   "execution_count": 181,
   "id": "5f5d1841-12f2-4a62-ad90-741ce8abc490",
   "metadata": {},
   "outputs": [],
   "source": [
    "prompt = PromptTemplate(\n",
    "    input_variables = input_variables,\n",
    "    template = template\n",
    ")"
   ]
  },
  {
   "cell_type": "code",
   "execution_count": 182,
   "id": "29c03f06-d8ad-4c4a-9e5e-aa7bad5899de",
   "metadata": {},
   "outputs": [
    {
     "data": {
      "text/plain": [
       "\"\\n\\nI have to say, I am extremely disappointed with the design and build quality of the iPhone. It feels cheap and flimsy in my hand, and I'm worried about it breaking easily. The display is also a major letdown. The resolution is not as sharp as I would expect from a high-end phone, and the colors seem washed out.\\n\\nAs for performance, it's not terrible, but it's definitely not great. I've noticed some lag and slow loading times, which is frustrating when I'm trying to use my phone quickly. And while the camera quality is acceptable, it's nothing to write home about. The pictures are decent, but they don't have the same crispness and detail as other smartphones on the market.\\n\\nOn a positive note, the battery life of the iPhone is surprisingly good. I can go a full day without having to charge it, even with heavy usage. But unfortunately, that's about the only positive thing I have to say about this phone.\\n\\nOverall, I would not recommend the iPhone to anyone looking for a top-of-the-line smartphone. The design and build quality, display, and performance leave much to be desired. If you're solely looking for a long-lasting battery, then this could be a good option. But for\""
      ]
     },
     "execution_count": 182,
     "metadata": {},
     "output_type": "execute_result"
    }
   ],
   "source": [
    "llm(prompt.format(product_name=\"iphone\", criteria_0=\"Design and Build Quality\", criteria_1=\"Display\", criteria_2=\"Performance\", \\\n",
    "                  criteria_3=\"Camera Quality\", criteria_4=\"Battery Life\", adjective_0=\"Very Bad\", adjective_1=\"Bad\",\\\n",
    "                  adjective_2=\"Acceptable\", adjective_3=\"Good\", adjective_4=\"Very Good\"))"
   ]
  },
  {
   "cell_type": "markdown",
   "id": "b791361a-c181-439e-8669-a3f9cbd52df8",
   "metadata": {},
   "source": [
    "## To be Discussed"
   ]
  },
  {
   "cell_type": "markdown",
   "id": "541a19b0-dc71-4331-bca0-bfd8296de4d1",
   "metadata": {},
   "source": [
    "+ Given that a product review is very subjective, we could ask the user if he/she wants to provide a recommendation.\n",
    "+ It is better to avoid negativity.\n",
    "+ The user should meet a few but import prerequisites. For example, one shouldn't review his own product or any product from similar company. In other words the user should be related in one way or the other with the seller of manufacturer."
   ]
  },
  {
   "cell_type": "code",
   "execution_count": null,
   "id": "67406bb9-6436-481b-97fe-870388d851b3",
   "metadata": {},
   "outputs": [],
   "source": []
  }
 ],
 "metadata": {
  "kernelspec": {
   "display_name": "Python 3 (ipykernel)",
   "language": "python",
   "name": "python3"
  },
  "language_info": {
   "codemirror_mode": {
    "name": "ipython",
    "version": 3
   },
   "file_extension": ".py",
   "mimetype": "text/x-python",
   "name": "python",
   "nbconvert_exporter": "python",
   "pygments_lexer": "ipython3",
   "version": "3.10.6"
  },
  "toc": {
   "base_numbering": 1,
   "nav_menu": {},
   "number_sections": true,
   "sideBar": true,
   "skip_h1_title": false,
   "title_cell": "Table of Contents",
   "title_sidebar": "Contents",
   "toc_cell": false,
   "toc_position": {},
   "toc_section_display": true,
   "toc_window_display": false
  }
 },
 "nbformat": 4,
 "nbformat_minor": 5
}
