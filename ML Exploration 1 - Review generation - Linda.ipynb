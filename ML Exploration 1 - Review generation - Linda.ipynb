{
 "cells": [
  {
   "cell_type": "code",
   "execution_count": 1,
   "id": "8644c08d-f6bd-48c9-a985-85950ea78ac8",
   "metadata": {},
   "outputs": [
    {
     "name": "stdout",
     "output_type": "stream",
     "text": [
      "Collecting python-dotenv\n",
      "  Using cached python_dotenv-1.0.1-py3-none-any.whl.metadata (23 kB)\n",
      "Using cached python_dotenv-1.0.1-py3-none-any.whl (19 kB)\n",
      "Installing collected packages: python-dotenv\n",
      "Successfully installed python-dotenv-1.0.1\n"
     ]
    }
   ],
   "source": [
    "# Had to pip install jupyter first\n",
    "!pip install python-dotenv"
   ]
  },
  {
   "cell_type": "code",
   "execution_count": 3,
   "id": "c3426f96-2730-4f79-a95d-05758638d439",
   "metadata": {
    "execution": {
     "iopub.execute_input": "2024-03-20T11:37:05.512976Z",
     "iopub.status.busy": "2024-03-20T11:37:05.512440Z",
     "iopub.status.idle": "2024-03-20T11:37:05.546788Z",
     "shell.execute_reply": "2024-03-20T11:37:05.546009Z",
     "shell.execute_reply.started": "2024-03-20T11:37:05.512930Z"
    }
   },
   "outputs": [],
   "source": [
    "%load_ext autoreload\n",
    "%autoreload 2"
   ]
  },
  {
   "cell_type": "code",
   "execution_count": 4,
   "id": "fbee7830-1cb1-45c8-b426-ec6cd19f1858",
   "metadata": {
    "execution": {
     "iopub.execute_input": "2024-03-20T11:37:09.451198Z",
     "iopub.status.busy": "2024-03-20T11:37:09.450581Z",
     "iopub.status.idle": "2024-03-20T11:37:09.511791Z",
     "shell.execute_reply": "2024-03-20T11:37:09.510830Z",
     "shell.execute_reply.started": "2024-03-20T11:37:09.451146Z"
    }
   },
   "outputs": [
    {
     "data": {
      "text/plain": [
       "True"
      ]
     },
     "execution_count": 4,
     "metadata": {},
     "output_type": "execute_result"
    }
   ],
   "source": [
    "import os\n",
    "import sys\n",
    "from dotenv import load_dotenv\n",
    "load_dotenv()"
   ]
  },
  {
   "cell_type": "markdown",
   "id": "61cbee53-5f62-4461-80a3-32e3cb15d36b",
   "metadata": {},
   "source": [
    "## Data"
   ]
  },
  {
   "cell_type": "code",
   "execution_count": 4,
   "id": "0ad3edaf-27c5-45cb-a92f-1e85f85c73a2",
   "metadata": {
    "execution": {
     "iopub.execute_input": "2024-03-20T11:37:10.557939Z",
     "iopub.status.busy": "2024-03-20T11:37:10.556807Z",
     "iopub.status.idle": "2024-03-20T11:37:11.185343Z",
     "shell.execute_reply": "2024-03-20T11:37:11.183787Z",
     "shell.execute_reply.started": "2024-03-20T11:37:10.557887Z"
    }
   },
   "outputs": [],
   "source": [
    "import pandas as pd"
   ]
  },
  {
   "cell_type": "code",
   "execution_count": 5,
   "id": "81def16e-7fda-4a98-a656-29ffc7457f2e",
   "metadata": {
    "execution": {
     "iopub.execute_input": "2024-03-20T11:37:11.187693Z",
     "iopub.status.busy": "2024-03-20T11:37:11.187241Z",
     "iopub.status.idle": "2024-03-20T11:37:11.209915Z",
     "shell.execute_reply": "2024-03-20T11:37:11.209075Z",
     "shell.execute_reply.started": "2024-03-20T11:37:11.187662Z"
    }
   },
   "outputs": [],
   "source": [
    "df_reviews = pd.read_csv(\"dummy_data_new.csv\", index_col=0)"
   ]
  },
  {
   "cell_type": "code",
   "execution_count": 6,
   "id": "1f6274dd-b95e-45dd-9b8a-a4edb60a1e43",
   "metadata": {
    "execution": {
     "iopub.execute_input": "2024-03-20T11:37:11.211389Z",
     "iopub.status.busy": "2024-03-20T11:37:11.210927Z",
     "iopub.status.idle": "2024-03-20T11:37:11.244733Z",
     "shell.execute_reply": "2024-03-20T11:37:11.243974Z",
     "shell.execute_reply.started": "2024-03-20T11:37:11.211361Z"
    }
   },
   "outputs": [
    {
     "name": "stdout",
     "output_type": "stream",
     "text": [
      "(109, 4) Index(['Product Name', 'Product Description', 'Review Text', 'Rating'], dtype='object')\n"
     ]
    },
    {
     "data": {
      "text/html": [
       "<div>\n",
       "<style scoped>\n",
       "    .dataframe tbody tr th:only-of-type {\n",
       "        vertical-align: middle;\n",
       "    }\n",
       "\n",
       "    .dataframe tbody tr th {\n",
       "        vertical-align: top;\n",
       "    }\n",
       "\n",
       "    .dataframe thead th {\n",
       "        text-align: right;\n",
       "    }\n",
       "</style>\n",
       "<table border=\"1\" class=\"dataframe\">\n",
       "  <thead>\n",
       "    <tr style=\"text-align: right;\">\n",
       "      <th></th>\n",
       "      <th>Product Name</th>\n",
       "      <th>Product Description</th>\n",
       "      <th>Review Text</th>\n",
       "      <th>Rating</th>\n",
       "    </tr>\n",
       "  </thead>\n",
       "  <tbody>\n",
       "    <tr>\n",
       "      <th>0</th>\n",
       "      <td>iPhone 15</td>\n",
       "      <td>The Apple iPhone 15 redefines smartphone innov...</td>\n",
       "      <td>The iPhone 15 is a masterpiece! The sleek desi...</td>\n",
       "      <td>{\"durability\": 5, \"ease of use\": 5, \"pleasant ...</td>\n",
       "    </tr>\n",
       "    <tr>\n",
       "      <th>1</th>\n",
       "      <td>MacBook Pro 2023</td>\n",
       "      <td>Experience the ultimate in computing power wit...</td>\n",
       "      <td>The MacBook Pro 2023 is a game-changer! The pe...</td>\n",
       "      <td>{\"durability\": 5, \"ease of use\": 5, \"pleasant ...</td>\n",
       "    </tr>\n",
       "    <tr>\n",
       "      <th>2</th>\n",
       "      <td>Kindle Paperwhite</td>\n",
       "      <td>Enjoy reading your favorite books anytime, any...</td>\n",
       "      <td>The Kindle Paperwhite is a must-have for book ...</td>\n",
       "      <td>{\"durability\": 5, \"ease of use\": 5, \"pleasant ...</td>\n",
       "    </tr>\n",
       "  </tbody>\n",
       "</table>\n",
       "</div>"
      ],
      "text/plain": [
       "        Product Name                                Product Description  \\\n",
       "0          iPhone 15  The Apple iPhone 15 redefines smartphone innov...   \n",
       "1   MacBook Pro 2023  Experience the ultimate in computing power wit...   \n",
       "2  Kindle Paperwhite  Enjoy reading your favorite books anytime, any...   \n",
       "\n",
       "                                         Review Text  \\\n",
       "0  The iPhone 15 is a masterpiece! The sleek desi...   \n",
       "1  The MacBook Pro 2023 is a game-changer! The pe...   \n",
       "2  The Kindle Paperwhite is a must-have for book ...   \n",
       "\n",
       "                                              Rating  \n",
       "0  {\"durability\": 5, \"ease of use\": 5, \"pleasant ...  \n",
       "1  {\"durability\": 5, \"ease of use\": 5, \"pleasant ...  \n",
       "2  {\"durability\": 5, \"ease of use\": 5, \"pleasant ...  "
      ]
     },
     "execution_count": 6,
     "metadata": {},
     "output_type": "execute_result"
    }
   ],
   "source": [
    "print(df_reviews.shape, df_reviews.columns)\n",
    "df_reviews.head(3)"
   ]
  },
  {
   "cell_type": "code",
   "execution_count": 7,
   "id": "a477c813-8993-45b5-8661-45415aa22c26",
   "metadata": {
    "execution": {
     "iopub.execute_input": "2024-03-20T11:37:11.891409Z",
     "iopub.status.busy": "2024-03-20T11:37:11.890961Z",
     "iopub.status.idle": "2024-03-20T11:37:11.914080Z",
     "shell.execute_reply": "2024-03-20T11:37:11.912996Z",
     "shell.execute_reply.started": "2024-03-20T11:37:11.891375Z"
    }
   },
   "outputs": [
    {
     "data": {
      "text/plain": [
       "'Canon EOS Rebel T8i DSLR Camera'"
      ]
     },
     "execution_count": 7,
     "metadata": {},
     "output_type": "execute_result"
    }
   ],
   "source": [
    "# Check out some descriptions to use as input\n",
    "df_reviews[\"Product Name\"].sample(1).iloc[0]"
   ]
  },
  {
   "cell_type": "markdown",
   "id": "5433a24f-4c86-4937-9ae6-0e6b90217864",
   "metadata": {},
   "source": [
    "## Review generation"
   ]
  },
  {
   "cell_type": "markdown",
   "id": "81b3da2a-fac7-4aec-be78-8c9396d1bdd6",
   "metadata": {},
   "source": [
    "### A) Langchain - OpenAI\n",
    "\n",
    "Le Wagon's requirements file for using LangChain: https://wagon-public-datasets.s3.amazonaws.com/deep_learning_datasets/langchain_requirements.txt"
   ]
  },
  {
   "cell_type": "code",
   "execution_count": 8,
   "id": "ad6e097a-a0d4-4e38-b49e-b9cf1a522f4f",
   "metadata": {
    "execution": {
     "iopub.execute_input": "2024-03-20T11:37:37.620620Z",
     "iopub.status.busy": "2024-03-20T11:37:37.620065Z",
     "iopub.status.idle": "2024-03-20T11:37:41.977022Z",
     "shell.execute_reply": "2024-03-20T11:37:41.975309Z",
     "shell.execute_reply.started": "2024-03-20T11:37:37.620581Z"
    }
   },
   "outputs": [],
   "source": [
    "!pip --quiet install langchain langchain-community langchain-openai chromadb"
   ]
  },
  {
   "cell_type": "code",
   "execution_count": 6,
   "id": "8c5d3042-c378-49fc-bfd3-f1c97fa737d1",
   "metadata": {
    "execution": {
     "iopub.execute_input": "2024-03-20T11:37:21.143803Z",
     "iopub.status.busy": "2024-03-20T11:37:21.142971Z",
     "iopub.status.idle": "2024-03-20T11:37:22.674959Z",
     "shell.execute_reply": "2024-03-20T11:37:22.674258Z",
     "shell.execute_reply.started": "2024-03-20T11:37:21.143752Z"
    }
   },
   "outputs": [],
   "source": [
    "from langchain.chains import RetrievalQA\n",
    "# from langchain_community.document_loaders import TextLoader\n",
    "from langchain_text_splitters import RecursiveCharacterTextSplitter\n",
    "from langchain_text_splitters import Language\n",
    "from langchain_openai import OpenAIEmbeddings, ChatOpenAI\n",
    "from langchain_community.vectorstores import Chroma\n",
    "from langchain.schema.document import Document"
   ]
  },
  {
   "cell_type": "code",
   "execution_count": 1,
   "id": "48ac494f-add5-4968-bd2e-031ae0c7599d",
   "metadata": {
    "execution": {
     "iopub.execute_input": "2024-03-20T14:18:19.510441Z",
     "iopub.status.busy": "2024-03-20T14:18:19.509912Z",
     "iopub.status.idle": "2024-03-20T14:18:19.549354Z",
     "shell.execute_reply": "2024-03-20T14:18:19.548461Z",
     "shell.execute_reply.started": "2024-03-20T14:18:19.510398Z"
    }
   },
   "outputs": [],
   "source": [
    "def get_text_chunks(text):\n",
    "    text_splitter = RecursiveCharacterTextSplitter(chunk_size=500, chunk_overlap=100)\n",
    "    docs = [Document(page_content=x) for x in text_splitter.split_text(text)]\n",
    "    return docs\n",
    "\n",
    "def embed_texts_openai(texts, openai_api_key):\n",
    "    print(f\"Embedding {len(texts)} texts...\", end=' ')\n",
    "    # Instantiate an embedder\n",
    "    embedder = OpenAIEmbeddings(openai_api_key=openai_api_key)\n",
    "\n",
    "    # Use the embedder to populate a Chroma vector store with our texts.\n",
    "    doc_search = Chroma.from_documents(texts, embedder)\n",
    "    print(\"✅\")\n",
    "    return doc_search\n",
    "\n",
    "def run_qa(doc_search, prompt, openai_api_key):\n",
    "    print(f\"Running QA...\", end=' ')\n",
    "\n",
    "    # Retrieval QA\n",
    "    # - chain_type=\"stuff\": the model 'stuffs' all our texts into a single prompt (sufficiently small)\n",
    "    # - model: latest GPT-3.5-Turbo model.\n",
    "    qa = RetrievalQA.from_chain_type(\n",
    "        llm=ChatOpenAI(model_name=\"gpt-3.5-turbo\", openai_api_key=openai_api_key),\n",
    "        chain_type=\"stuff\",\n",
    "        retriever=doc_search.as_retriever(search_kwargs={\"k\": 1})  # 1 doc to return max\n",
    "    )\n",
    "\n",
    "    answer = qa.invoke(prompt)\n",
    "    print(\"✅\")\n",
    "    return answer[\"result\"]"
   ]
  },
  {
   "cell_type": "code",
   "execution_count": 7,
   "id": "7386264a-edcb-47fb-b2db-5a246beb67c3",
   "metadata": {
    "execution": {
     "iopub.execute_input": "2024-03-20T11:37:58.353034Z",
     "iopub.status.busy": "2024-03-20T11:37:58.352491Z",
     "iopub.status.idle": "2024-03-20T11:37:58.386714Z",
     "shell.execute_reply": "2024-03-20T11:37:58.385434Z",
     "shell.execute_reply.started": "2024-03-20T11:37:58.352989Z"
    }
   },
   "outputs": [],
   "source": [
    "OPEN_API_KEY = os.environ.get('OPENAI_API_KEY')\n",
    "PRODUCT_DESCRIPTION = 'Canon EOS Rebel T8i DSLR Camera'\n",
    "RATINGS = {\"Longevity\": 1,  \"Usage\": 2, \"Packaging\": 5, \"Design\": 4}\n",
    "\n",
    "# Get text chunks\n",
    "chunks = get_text_chunks(PRODUCT_DESCRIPTION)"
   ]
  },
  {
   "cell_type": "code",
   "execution_count": 8,
   "id": "83c85129-e9a4-4695-b2d8-1056bc785471",
   "metadata": {
    "execution": {
     "iopub.execute_input": "2024-03-20T11:38:01.350364Z",
     "iopub.status.busy": "2024-03-20T11:38:01.349077Z",
     "iopub.status.idle": "2024-03-20T11:38:05.328487Z",
     "shell.execute_reply": "2024-03-20T11:38:05.327445Z",
     "shell.execute_reply.started": "2024-03-20T11:38:01.350157Z"
    }
   },
   "outputs": [
    {
     "name": "stdout",
     "output_type": "stream",
     "text": [
      "Embedding 1 texts... ✅\n"
     ]
    },
    {
     "data": {
      "text/plain": [
       "<langchain_community.vectorstores.chroma.Chroma at 0x10eb1cca0>"
      ]
     },
     "execution_count": 8,
     "metadata": {},
     "output_type": "execute_result"
    }
   ],
   "source": [
    "doc_search = embed_texts_openai(chunks, OPEN_API_KEY)\n",
    "doc_search"
   ]
  },
  {
   "cell_type": "code",
   "execution_count": 10,
   "id": "78815bc9",
   "metadata": {},
   "outputs": [
    {
     "name": "stdout",
     "output_type": "stream",
     "text": [
      "Running QA... ✅\n",
      "Product: Canon EOS Rebel T8i DSLR Camera\n",
      "\n",
      "Generated Review:\n",
      "The Canon EOS Rebel T8i DSLR Camera showcases a sleek design that complements its exceptional packaging, ensuring a delightful aesthetic experience. While its usage meets the standard expectations, there is room for improvement in terms of longevity to truly enhance the overall experience with this camera.\n"
     ]
    }
   ],
   "source": [
    "def generate_review(product_description, ratings, doc_search, openai_api_key):\n",
    "    prompt = f\"\"\"\n",
    "    Product Description: {product_description}\n",
    "    Ratings:\n",
    "    {''.join([f\"{criteria}: {rating}\" for criteria, rating in ratings.items()])}\n",
    "    Based on the description and ratings provided, please generate a review for this product. Do it without explicitly referring to the fact that it is based on a rating or provided information.\n",
    "\n",
    "    \"\"\"\n",
    "    for criteria, rating in ratings.items():\n",
    "        if rating >= 4:\n",
    "            prompt += f\"The {product_description} excels in {criteria.lower()} as it offers exceptional {criteria.lower()}.\\n\"\n",
    "        elif rating >= 3:\n",
    "            prompt += f\"The {product_description} performs well in terms of {criteria.lower()} with {criteria.lower()} that meet expectations.\\n\"\n",
    "        elif rating >= 2:\n",
    "            prompt += f\"The {product_description} has average {criteria.lower()}, providing satisfactory {criteria.lower()}.\\n\"\n",
    "        else:\n",
    "            prompt += f\"The {product_description} could improve its {criteria.lower()} as the current {criteria.lower()} is below expectations.\\n\"\n",
    "\n",
    "    return run_qa(doc_search, prompt, openai_api_key)\n",
    "\n",
    "\n",
    "# Generate review\n",
    "review = generate_review(PRODUCT_DESCRIPTION, RATINGS, doc_search, OPEN_API_KEY)\n",
    "\n",
    "print(f\"Product: {PRODUCT_DESCRIPTION}\\n\")\n",
    "print(f\"Generated Review:\\n{review}\")"
   ]
  }
 ],
 "metadata": {
  "kernelspec": {
   "display_name": "Python 3 (ipykernel)",
   "language": "python",
   "name": "python3"
  },
  "language_info": {
   "codemirror_mode": {
    "name": "ipython",
    "version": 3
   },
   "file_extension": ".py",
   "mimetype": "text/x-python",
   "name": "python",
   "nbconvert_exporter": "python",
   "pygments_lexer": "ipython3",
   "version": "3.10.6"
  }
 },
 "nbformat": 4,
 "nbformat_minor": 5
}
