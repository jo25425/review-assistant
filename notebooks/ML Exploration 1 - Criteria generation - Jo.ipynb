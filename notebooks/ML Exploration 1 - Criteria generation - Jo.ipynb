{
 "cells": [
  {
   "cell_type": "code",
   "execution_count": null,
   "id": "8644c08d-f6bd-48c9-a985-85950ea78ac8",
   "metadata": {},
   "outputs": [],
   "source": [
    "# Had to pip install jupyter first\n",
    "# !pip install python-dotenv"
   ]
  },
  {
   "cell_type": "code",
   "execution_count": 1,
   "id": "c3426f96-2730-4f79-a95d-05758638d439",
   "metadata": {
    "execution": {
     "iopub.execute_input": "2024-03-20T11:37:05.512976Z",
     "iopub.status.busy": "2024-03-20T11:37:05.512440Z",
     "iopub.status.idle": "2024-03-20T11:37:05.546788Z",
     "shell.execute_reply": "2024-03-20T11:37:05.546009Z",
     "shell.execute_reply.started": "2024-03-20T11:37:05.512930Z"
    }
   },
   "outputs": [],
   "source": [
    "%load_ext autoreload\n",
    "%autoreload 2"
   ]
  },
  {
   "cell_type": "code",
   "execution_count": 2,
   "id": "fbee7830-1cb1-45c8-b426-ec6cd19f1858",
   "metadata": {
    "execution": {
     "iopub.execute_input": "2024-03-20T11:37:09.451198Z",
     "iopub.status.busy": "2024-03-20T11:37:09.450581Z",
     "iopub.status.idle": "2024-03-20T11:37:09.511791Z",
     "shell.execute_reply": "2024-03-20T11:37:09.510830Z",
     "shell.execute_reply.started": "2024-03-20T11:37:09.451146Z"
    }
   },
   "outputs": [
    {
     "data": {
      "text/plain": [
       "True"
      ]
     },
     "execution_count": 2,
     "metadata": {},
     "output_type": "execute_result"
    }
   ],
   "source": [
    "import os\n",
    "import sys\n",
    "from dotenv import load_dotenv\n",
    "load_dotenv()"
   ]
  },
  {
   "cell_type": "markdown",
   "id": "61cbee53-5f62-4461-80a3-32e3cb15d36b",
   "metadata": {},
   "source": [
    "## Data"
   ]
  },
  {
   "cell_type": "code",
   "execution_count": 3,
   "id": "0ad3edaf-27c5-45cb-a92f-1e85f85c73a2",
   "metadata": {
    "execution": {
     "iopub.execute_input": "2024-03-20T11:37:10.557939Z",
     "iopub.status.busy": "2024-03-20T11:37:10.556807Z",
     "iopub.status.idle": "2024-03-20T11:37:11.185343Z",
     "shell.execute_reply": "2024-03-20T11:37:11.183787Z",
     "shell.execute_reply.started": "2024-03-20T11:37:10.557887Z"
    }
   },
   "outputs": [],
   "source": [
    "import pandas as pd"
   ]
  },
  {
   "cell_type": "code",
   "execution_count": 4,
   "id": "81def16e-7fda-4a98-a656-29ffc7457f2e",
   "metadata": {
    "execution": {
     "iopub.execute_input": "2024-03-20T11:37:11.187693Z",
     "iopub.status.busy": "2024-03-20T11:37:11.187241Z",
     "iopub.status.idle": "2024-03-20T11:37:11.209915Z",
     "shell.execute_reply": "2024-03-20T11:37:11.209075Z",
     "shell.execute_reply.started": "2024-03-20T11:37:11.187662Z"
    }
   },
   "outputs": [],
   "source": [
    "df_reviews = pd.read_csv(\"../raw_data/dummy_data.csv\", index_col=0)"
   ]
  },
  {
   "cell_type": "code",
   "execution_count": 5,
   "id": "1f6274dd-b95e-45dd-9b8a-a4edb60a1e43",
   "metadata": {
    "execution": {
     "iopub.execute_input": "2024-03-20T11:37:11.211389Z",
     "iopub.status.busy": "2024-03-20T11:37:11.210927Z",
     "iopub.status.idle": "2024-03-20T11:37:11.244733Z",
     "shell.execute_reply": "2024-03-20T11:37:11.243974Z",
     "shell.execute_reply.started": "2024-03-20T11:37:11.211361Z"
    }
   },
   "outputs": [
    {
     "name": "stdout",
     "output_type": "stream",
     "text": [
      "(109, 4) Index(['Product Name', 'Product Description', 'Review Text', 'Rating'], dtype='object')\n"
     ]
    },
    {
     "data": {
      "text/html": [
       "<div>\n",
       "<style scoped>\n",
       "    .dataframe tbody tr th:only-of-type {\n",
       "        vertical-align: middle;\n",
       "    }\n",
       "\n",
       "    .dataframe tbody tr th {\n",
       "        vertical-align: top;\n",
       "    }\n",
       "\n",
       "    .dataframe thead th {\n",
       "        text-align: right;\n",
       "    }\n",
       "</style>\n",
       "<table border=\"1\" class=\"dataframe\">\n",
       "  <thead>\n",
       "    <tr style=\"text-align: right;\">\n",
       "      <th></th>\n",
       "      <th>Product Name</th>\n",
       "      <th>Product Description</th>\n",
       "      <th>Review Text</th>\n",
       "      <th>Rating</th>\n",
       "    </tr>\n",
       "  </thead>\n",
       "  <tbody>\n",
       "    <tr>\n",
       "      <th>0</th>\n",
       "      <td>iPhone 15</td>\n",
       "      <td>The Apple iPhone 15 redefines smartphone innov...</td>\n",
       "      <td>The iPhone 15 is a masterpiece! The sleek desi...</td>\n",
       "      <td>{\"durability\": 5, \"ease of use\": 5, \"pleasant ...</td>\n",
       "    </tr>\n",
       "    <tr>\n",
       "      <th>1</th>\n",
       "      <td>MacBook Pro 2023</td>\n",
       "      <td>Experience the ultimate in computing power wit...</td>\n",
       "      <td>The MacBook Pro 2023 is a game-changer! The pe...</td>\n",
       "      <td>{\"durability\": 5, \"ease of use\": 5, \"pleasant ...</td>\n",
       "    </tr>\n",
       "    <tr>\n",
       "      <th>2</th>\n",
       "      <td>Kindle Paperwhite</td>\n",
       "      <td>Enjoy reading your favorite books anytime, any...</td>\n",
       "      <td>The Kindle Paperwhite is a must-have for book ...</td>\n",
       "      <td>{\"durability\": 5, \"ease of use\": 5, \"pleasant ...</td>\n",
       "    </tr>\n",
       "  </tbody>\n",
       "</table>\n",
       "</div>"
      ],
      "text/plain": [
       "        Product Name                                Product Description  \\\n",
       "0          iPhone 15  The Apple iPhone 15 redefines smartphone innov...   \n",
       "1   MacBook Pro 2023  Experience the ultimate in computing power wit...   \n",
       "2  Kindle Paperwhite  Enjoy reading your favorite books anytime, any...   \n",
       "\n",
       "                                         Review Text  \\\n",
       "0  The iPhone 15 is a masterpiece! The sleek desi...   \n",
       "1  The MacBook Pro 2023 is a game-changer! The pe...   \n",
       "2  The Kindle Paperwhite is a must-have for book ...   \n",
       "\n",
       "                                              Rating  \n",
       "0  {\"durability\": 5, \"ease of use\": 5, \"pleasant ...  \n",
       "1  {\"durability\": 5, \"ease of use\": 5, \"pleasant ...  \n",
       "2  {\"durability\": 5, \"ease of use\": 5, \"pleasant ...  "
      ]
     },
     "execution_count": 5,
     "metadata": {},
     "output_type": "execute_result"
    }
   ],
   "source": [
    "print(df_reviews.shape, df_reviews.columns)\n",
    "df_reviews.head(3)"
   ]
  },
  {
   "cell_type": "code",
   "execution_count": 6,
   "id": "a477c813-8993-45b5-8661-45415aa22c26",
   "metadata": {
    "execution": {
     "iopub.execute_input": "2024-03-20T11:37:11.891409Z",
     "iopub.status.busy": "2024-03-20T11:37:11.890961Z",
     "iopub.status.idle": "2024-03-20T11:37:11.914080Z",
     "shell.execute_reply": "2024-03-20T11:37:11.912996Z",
     "shell.execute_reply.started": "2024-03-20T11:37:11.891375Z"
    }
   },
   "outputs": [
    {
     "data": {
      "text/plain": [
       "'Google Nest Learning Thermostat'"
      ]
     },
     "execution_count": 6,
     "metadata": {},
     "output_type": "execute_result"
    }
   ],
   "source": [
    "# Check out some descriptions to use as input\n",
    "df_reviews[\"Product Name\"].sample(1).iloc[0]"
   ]
  },
  {
   "cell_type": "markdown",
   "id": "5433a24f-4c86-4937-9ae6-0e6b90217864",
   "metadata": {},
   "source": [
    "## Criteria generation"
   ]
  },
  {
   "cell_type": "markdown",
   "id": "81b3da2a-fac7-4aec-be78-8c9396d1bdd6",
   "metadata": {},
   "source": [
    "### A) Langchain - OpenAI\n",
    "\n",
    "Le Wagon's requirements file for using LangChain: https://wagon-public-datasets.s3.amazonaws.com/deep_learning_datasets/langchain_requirements.txt"
   ]
  },
  {
   "cell_type": "code",
   "execution_count": 9,
   "id": "ad6e097a-a0d4-4e38-b49e-b9cf1a522f4f",
   "metadata": {
    "execution": {
     "iopub.execute_input": "2024-03-20T11:37:37.620620Z",
     "iopub.status.busy": "2024-03-20T11:37:37.620065Z",
     "iopub.status.idle": "2024-03-20T11:37:41.977022Z",
     "shell.execute_reply": "2024-03-20T11:37:41.975309Z",
     "shell.execute_reply.started": "2024-03-20T11:37:37.620581Z"
    }
   },
   "outputs": [],
   "source": [
    "!pip --quiet install langchain langchain-community langchain-openai chromadb"
   ]
  },
  {
   "cell_type": "code",
   "execution_count": 109,
   "id": "8c5d3042-c378-49fc-bfd3-f1c97fa737d1",
   "metadata": {
    "execution": {
     "iopub.execute_input": "2024-03-21T18:13:20.203027Z",
     "iopub.status.busy": "2024-03-21T18:13:20.202585Z",
     "iopub.status.idle": "2024-03-21T18:13:20.314474Z",
     "shell.execute_reply": "2024-03-21T18:13:20.313607Z",
     "shell.execute_reply.started": "2024-03-21T18:13:20.202991Z"
    }
   },
   "outputs": [],
   "source": [
    "from langchain.chains import RetrievalQA\n",
    "from langchain_text_splitters import RecursiveCharacterTextSplitter\n",
    "from langchain_text_splitters import Language\n",
    "from langchain_openai import OpenAIEmbeddings, ChatOpenAI, OpenAI\n",
    "from langchain_community.vectorstores import Chroma\n",
    "from langchain.schema.document import Document"
   ]
  },
  {
   "cell_type": "code",
   "execution_count": 81,
   "id": "48ac494f-add5-4968-bd2e-031ae0c7599d",
   "metadata": {
    "execution": {
     "iopub.execute_input": "2024-03-21T08:36:23.721270Z",
     "iopub.status.busy": "2024-03-21T08:36:23.720837Z",
     "iopub.status.idle": "2024-03-21T08:36:23.846594Z",
     "shell.execute_reply": "2024-03-21T08:36:23.845055Z",
     "shell.execute_reply.started": "2024-03-21T08:36:23.721237Z"
    }
   },
   "outputs": [],
   "source": [
    "def get_text_chunks(text) -> list[Document]:\n",
    "    text_splitter = RecursiveCharacterTextSplitter(chunk_size=500, chunk_overlap=100)\n",
    "    docs = [Document(page_content=x) for x in text_splitter.split_text(text)]\n",
    "    return docs\n",
    "\n",
    "def embed_texts_openai(texts, openai_api_key):\n",
    "    print(f\"Embedding {len(texts)} texts...\", end=' ')\n",
    "    # Instantiate an embedder\n",
    "    embedder = OpenAIEmbeddings(openai_api_key=openai_api_key)\n",
    "\n",
    "    # Use the embedder to populate a Chroma vector store with our texts.\n",
    "    doc_search = Chroma.from_documents(texts, embedder)\n",
    "    print(\"✅\")\n",
    "    return doc_search\n",
    "\n",
    "def run_qa_openai(doc_search, prompt, openai_api_key):\n",
    "    print(f\"Running QA...\", end=' ')\n",
    "\n",
    "    # Retrieval QA\n",
    "    # - chain_type=\"stuff\": the model 'stuffs' all our texts into a single prompt (sufficiently small)\n",
    "    # - model: latest GPT-3.5-Turbo model.\n",
    "    qa = RetrievalQA.from_chain_type(\n",
    "        llm=ChatOpenAI(model_name=\"gpt-3.5-turbo\", openai_api_key=openai_api_key),\n",
    "        chain_type=\"stuff\",\n",
    "        retriever=doc_search.as_retriever(search_kwargs={\"k\": 1})  # 1 doc to return max\n",
    "    )\n",
    "\n",
    "    answer = qa.invoke(prompt)\n",
    "    print(\"✅\")\n",
    "    return answer[\"result\"]"
   ]
  },
  {
   "cell_type": "code",
   "execution_count": 11,
   "id": "7386264a-edcb-47fb-b2db-5a246beb67c3",
   "metadata": {
    "execution": {
     "iopub.execute_input": "2024-03-20T11:37:58.353034Z",
     "iopub.status.busy": "2024-03-20T11:37:58.352491Z",
     "iopub.status.idle": "2024-03-20T11:37:58.386714Z",
     "shell.execute_reply": "2024-03-20T11:37:58.385434Z",
     "shell.execute_reply.started": "2024-03-20T11:37:58.352989Z"
    }
   },
   "outputs": [
    {
     "data": {
      "text/plain": [
       "[Document(page_content='Maybelline Instant Age Rewind Eraser Dark Circles Treatment Concealer')]"
      ]
     },
     "execution_count": 11,
     "metadata": {},
     "output_type": "execute_result"
    }
   ],
   "source": [
    "OPEN_API_KEY = os.environ.get('OPENAI_API_KEY')\n",
    "PRODUCT_INPUT = 'Maybelline Instant Age Rewind Eraser Dark Circles Treatment Concealer'\n",
    "\n",
    "\n",
    "chunks = get_text_chunks(PRODUCT_INPUT)\n",
    "chunks"
   ]
  },
  {
   "cell_type": "code",
   "execution_count": 12,
   "id": "83c85129-e9a4-4695-b2d8-1056bc785471",
   "metadata": {
    "execution": {
     "iopub.execute_input": "2024-03-20T11:38:01.350364Z",
     "iopub.status.busy": "2024-03-20T11:38:01.349077Z",
     "iopub.status.idle": "2024-03-20T11:38:05.328487Z",
     "shell.execute_reply": "2024-03-20T11:38:05.327445Z",
     "shell.execute_reply.started": "2024-03-20T11:38:01.350157Z"
    }
   },
   "outputs": [
    {
     "name": "stdout",
     "output_type": "stream",
     "text": [
      "Embedding 1 texts... ✅\n"
     ]
    },
    {
     "data": {
      "text/plain": [
       "<langchain_community.vectorstores.chroma.Chroma at 0x1157524a0>"
      ]
     },
     "execution_count": 12,
     "metadata": {},
     "output_type": "execute_result"
    }
   ],
   "source": [
    "doc_search = embed_texts_openai(chunks, OPEN_API_KEY)\n",
    "doc_search"
   ]
  },
  {
   "cell_type": "code",
   "execution_count": 13,
   "id": "be74c13c-8b0d-44ab-bf19-bdd59a903028",
   "metadata": {
    "execution": {
     "iopub.execute_input": "2024-03-20T11:38:05.331003Z",
     "iopub.status.busy": "2024-03-20T11:38:05.330539Z",
     "iopub.status.idle": "2024-03-20T11:38:08.201325Z",
     "shell.execute_reply": "2024-03-20T11:38:08.199680Z",
     "shell.execute_reply.started": "2024-03-20T11:38:05.330921Z"
    }
   },
   "outputs": [
    {
     "name": "stdout",
     "output_type": "stream",
     "text": [
      "Running QA... ✅\n",
      "Product: Maybelline Instant Age Rewind Eraser Dark Circles Treatment Concealer\n",
      "\n",
      "Some rating criteria:\n",
      "1. Coverage (how well it conceals dark circles)\n",
      "2. Longevity (how long the concealer lasts without creasing or fading)\n",
      "3. Application (ease of application and blending)\n",
      "4. Shade range (variety of shades available)\n",
      "5. Packaging (convenience and effectiveness of the packaging)\n",
      "6. Skincare benefits (any improvements in the appearance of dark circles over time)\n"
     ]
    }
   ],
   "source": [
    "prompt = \"\"\"\n",
    "Given this product title, please select between 3 and 6 criteria to rate in order to compose a product review.\n",
    "\"\"\"\n",
    "answer = run_qa_openai(doc_search, prompt, OPEN_API_KEY)\n",
    "\n",
    "print(f\"Product: {PRODUCT_INPUT}\\n\")\n",
    "print(f\"Some rating criteria:\\n{answer}\")"
   ]
  },
  {
   "cell_type": "markdown",
   "id": "88107a0a-59c3-4091-a4df-b8e9b56591f2",
   "metadata": {},
   "source": [
    "### B) Langchain - all products and reviews"
   ]
  },
  {
   "cell_type": "code",
   "execution_count": 16,
   "id": "ddfb4f34-55d8-47b7-8e46-32c61e6ee911",
   "metadata": {
    "execution": {
     "iopub.execute_input": "2024-03-20T11:42:43.680982Z",
     "iopub.status.busy": "2024-03-20T11:42:43.680232Z",
     "iopub.status.idle": "2024-03-20T11:42:43.760636Z",
     "shell.execute_reply": "2024-03-20T11:42:43.759863Z",
     "shell.execute_reply.started": "2024-03-20T11:42:43.680927Z"
    }
   },
   "outputs": [],
   "source": [
    "from langchain.callbacks.streaming_stdout import StreamingStdOutCallbackHandler\n",
    "from langchain.callbacks.streaming_stdout_final_only import FinalStreamingStdOutCallbackHandler\n",
    "from langchain.chains import LLMChain\n",
    "from langchain.llms import GPT4All\n",
    "from langchain.prompts import PromptTemplate"
   ]
  },
  {
   "cell_type": "markdown",
   "id": "062ad78e-abc6-478b-b365-e769bef0049a",
   "metadata": {},
   "source": [
    "#### Model"
   ]
  },
  {
   "cell_type": "markdown",
   "id": "773cf3b6-0d1d-440e-81e6-be9b62fc5776",
   "metadata": {},
   "source": [
    "Pick a model from the \"Model Explorer\" section on the [GPT4All page](https://gpt4all.io/index.html)."
   ]
  },
  {
   "cell_type": "code",
   "execution_count": 15,
   "id": "3ab79495-84e9-493c-8638-8438023c8543",
   "metadata": {
    "execution": {
     "iopub.execute_input": "2024-03-20T11:42:16.776767Z",
     "iopub.status.busy": "2024-03-20T11:42:16.776138Z",
     "iopub.status.idle": "2024-03-20T11:42:17.475750Z",
     "shell.execute_reply": "2024-03-20T11:42:17.473852Z",
     "shell.execute_reply.started": "2024-03-20T11:42:16.776722Z"
    },
    "scrolled": true
   },
   "outputs": [
    {
     "name": "stdout",
     "output_type": "stream",
     "text": [
      "** Resuming transfer from byte position 4108928128\n",
      "  % Total    % Received % Xferd  Average Speed   Time    Time     Time  Current\n",
      "                                 Dload  Upload   Total   Spent    Left  Speed\n",
      "100 27242    0 27242    0     0  76073      0 --:--:-- --:--:-- --:--:-- 76094\n",
      "total 8025256\n",
      "-rw-r--r--  1 joannerobert  staff   3.8G Mar 20 12:12 mistral-7b-openorca.gguf2.Q4_0.gguf\n"
     ]
    }
   ],
   "source": [
    "MODEL_NAME = 'mistral-7b-openorca.gguf2.Q4_0.gguf'  # Change here\n",
    "MODEL_PATH = '../models/' + MODEL_NAME\n",
    "\n",
    "# -C - option to continue transfer automatically (so reuse file if already downloaded)\n",
    "!curl -C - -o {MODEL_PATH} https://gpt4all.io/models/gguf/{MODEL_NAME}\n",
    "!ls -lh ../models"
   ]
  },
  {
   "cell_type": "code",
   "execution_count": 130,
   "id": "de57f517-d056-4736-ac6c-5eca117822a4",
   "metadata": {
    "execution": {
     "iopub.execute_input": "2024-03-21T22:10:05.619504Z",
     "iopub.status.busy": "2024-03-21T22:10:05.618668Z",
     "iopub.status.idle": "2024-03-21T22:10:06.720640Z",
     "shell.execute_reply": "2024-03-21T22:10:06.719081Z",
     "shell.execute_reply.started": "2024-03-21T22:10:05.619463Z"
    }
   },
   "outputs": [],
   "source": [
    "# Callback that supports token-wise streaming but will only return the final output\n",
    "# rather than intermediary steps\n",
    "callbacks = [FinalStreamingStdOutCallbackHandler()]\n",
    "\n",
    "# verbose=True is required for the callback manager\n",
    "llm = GPT4All(model=MODEL_PATH, callbacks=callbacks, verbose=True)"
   ]
  },
  {
   "cell_type": "markdown",
   "id": "dc21c731-2e6f-42af-95a9-0a2d0f1374d2",
   "metadata": {},
   "source": [
    "#### LLM chain"
   ]
  },
  {
   "cell_type": "markdown",
   "id": "0280293a-30be-4548-9084-faeea739d01c",
   "metadata": {},
   "source": [
    "| Prompts |\n",
    "| :--- |\n",
    "| Given this product title, please select between 3 and 6 criteria to rate in order to compose a product review. |\n",
    "| Given this product title, please select between 3 and 6 criteria to rate in order to compose a product review.<br>Do not provide more criteria and don't add any more text. Do not write any review.|\n",
    "| Given this product title, please produce between 3 and 6 criteria to rate in order to compose a product review.<br>The answer should be in the format:<br>1. <1st criterium><br>2. <2nd criterium><br>...|\n",
    "| For this product, please produce between 3 and 6 criteria that could be rated by a user for a review. No examples needed.\n",
    "| For this product, please produce between 3 and 6 criteria that could be rated by a user for a review. No more details needed. |"
   ]
  },
  {
   "cell_type": "code",
   "execution_count": 131,
   "id": "a3bc5ee1-4a0e-4b3e-bc49-ed422381cbdb",
   "metadata": {
    "execution": {
     "iopub.execute_input": "2024-03-21T22:10:09.379447Z",
     "iopub.status.busy": "2024-03-21T22:10:09.378730Z",
     "iopub.status.idle": "2024-03-21T22:10:09.475469Z",
     "shell.execute_reply": "2024-03-21T22:10:09.472436Z",
     "shell.execute_reply.started": "2024-03-21T22:10:09.379418Z"
    }
   },
   "outputs": [],
   "source": [
    "# Best so far\n",
    "original_prompt = \"\"\"\n",
    "For this product, please produce between 3 and 6 criteria that could be rated by a user for a review. No more details needed.\n",
    "\"\"\"\n",
    "\n",
    "template = f\"\"\"Product: '{{product_text}}'\n",
    "{original_prompt}\"\"\"\n",
    "prompt = PromptTemplate(template=template, input_variables=[\"product_text\"])"
   ]
  },
  {
   "cell_type": "code",
   "execution_count": 132,
   "id": "6920f033-e7b4-4668-99d5-1f51dcdbe805",
   "metadata": {
    "execution": {
     "iopub.execute_input": "2024-03-21T22:10:10.387436Z",
     "iopub.status.busy": "2024-03-21T22:10:10.386427Z",
     "iopub.status.idle": "2024-03-21T22:10:10.568689Z",
     "shell.execute_reply": "2024-03-21T22:10:10.567571Z",
     "shell.execute_reply.started": "2024-03-21T22:10:10.387386Z"
    }
   },
   "outputs": [
    {
     "data": {
      "text/plain": [
       "LLMChain(prompt=PromptTemplate(input_variables=['product_text'], template=\"Product: '{product_text}'\\n\\nFor this product, please produce between 3 and 6 criteria that could be rated by a user for a review. No more details needed.\\n\"), llm=GPT4All(verbose=True, callbacks=[<langchain.callbacks.streaming_stdout_final_only.FinalStreamingStdOutCallbackHandler object at 0x226a46620>], model='../models/mistral-7b-openorca.gguf2.Q4_0.gguf', client=<gpt4all.gpt4all.GPT4All object at 0x226a46530>))"
      ]
     },
     "execution_count": 132,
     "metadata": {},
     "output_type": "execute_result"
    }
   ],
   "source": [
    "# Create the LLM chain\n",
    "llm_chain = LLMChain(prompt=prompt, llm=llm, return_final_only=True)\n",
    "llm_chain"
   ]
  },
  {
   "cell_type": "code",
   "execution_count": 133,
   "id": "042a2547-1bec-4a81-9df7-021b1868d7b8",
   "metadata": {
    "execution": {
     "iopub.execute_input": "2024-03-21T22:10:22.401345Z",
     "iopub.status.busy": "2024-03-21T22:10:22.400693Z",
     "iopub.status.idle": "2024-03-21T22:11:27.106933Z",
     "shell.execute_reply": "2024-03-21T22:11:27.104467Z",
     "shell.execute_reply.started": "2024-03-21T22:10:22.401300Z"
    }
   },
   "outputs": [
    {
     "name": "stdout",
     "output_type": "stream",
     "text": [
      "\n",
      "1) Coverage - How well does the concealer cover up dark circles?\n",
      "2) Consistency - Is it easy to apply or is it too thick/thin?\n",
      "3) Longevity - Does it last throughout the day without fading, creasing, or settling into fine lines?\n",
      "4) Shade Range - Are there enough shades available for different skin tones?\n",
      "5) Packaging - Is the packaging user-friendly and easy to use?\n",
      "6) Price - How affordable is this product compared to similar products on the market?\n",
      "CPU times: user 3min 44s, sys: 3.19 s, total: 3min 47s\n",
      "Wall time: 1min 4s\n"
     ]
    }
   ],
   "source": [
    "%%time\n",
    "res = llm_chain.run(product_text=PRODUCT_INPUT)\n",
    "# Note that the result needs to be printed explicitly to be shown properly since\n",
    "# it contains line returns\n",
    "print(res)"
   ]
  },
  {
   "cell_type": "markdown",
   "id": "bad367fe-ffb3-4379-91f4-5d18fa539dd7",
   "metadata": {},
   "source": [
    "#### Retrieval QA chain"
   ]
  },
  {
   "cell_type": "markdown",
   "id": "5c3a8326-d886-4974-94c7-5a9d5b602b97",
   "metadata": {},
   "source": [
    "##### Prompt only"
   ]
  },
  {
   "cell_type": "code",
   "execution_count": 46,
   "id": "c58f1a4c-4ac2-4cfd-8018-2b93d0cdfe80",
   "metadata": {
    "execution": {
     "iopub.execute_input": "2024-03-20T15:33:36.674919Z",
     "iopub.status.busy": "2024-03-20T15:33:36.673883Z",
     "iopub.status.idle": "2024-03-20T15:33:40.950374Z",
     "shell.execute_reply": "2024-03-20T15:33:40.948692Z",
     "shell.execute_reply.started": "2024-03-20T15:33:36.674865Z"
    }
   },
   "outputs": [],
   "source": [
    "!pip install sentence-transformers --quiet"
   ]
  },
  {
   "cell_type": "code",
   "execution_count": 50,
   "id": "5a6852e8-84c4-4b8f-bb6c-39f733bd9725",
   "metadata": {
    "execution": {
     "iopub.execute_input": "2024-03-20T15:35:17.346381Z",
     "iopub.status.busy": "2024-03-20T15:35:17.345996Z",
     "iopub.status.idle": "2024-03-20T15:35:17.424678Z",
     "shell.execute_reply": "2024-03-20T15:35:17.423024Z",
     "shell.execute_reply.started": "2024-03-20T15:35:17.346353Z"
    }
   },
   "outputs": [],
   "source": [
    "from langchain.embeddings import HuggingFaceEmbeddings\n",
    "\n",
    "\n",
    "EMBEDDING_MODEL = 'sentence-transformers/all-MiniLM-L6-v2'\n",
    "PERSIST_DIRECTORY = '../db/chroma_3/'\n",
    "\n",
    "\n",
    "def embed_texts_hg(texts):\n",
    "    print(f\"Embedding {len(texts)} texts...\", end=' ')\n",
    "    \n",
    "    embedder = HuggingFaceEmbeddings(model_name=EMBEDDING_MODEL)\n",
    "    vector_db = Chroma.from_documents(\n",
    "        documents=texts, \n",
    "        embedding=embedder,\n",
    "        persist_directory=PERSIST_DIRECTORY\n",
    "    )\n",
    "    print(\"✅\")\n",
    "    return vector_db"
   ]
  },
  {
   "cell_type": "code",
   "execution_count": 51,
   "id": "cdb2c792-6b27-4203-b8bc-412de1efd3e2",
   "metadata": {
    "execution": {
     "iopub.execute_input": "2024-03-20T15:35:19.160000Z",
     "iopub.status.busy": "2024-03-20T15:35:19.159349Z",
     "iopub.status.idle": "2024-03-20T15:35:19.219878Z",
     "shell.execute_reply": "2024-03-20T15:35:19.218971Z",
     "shell.execute_reply.started": "2024-03-20T15:35:19.159946Z"
    }
   },
   "outputs": [
    {
     "data": {
      "text/plain": [
       "[Document(page_content='Maybelline Instant Age Rewind Eraser Dark Circles Treatment Concealer')]"
      ]
     },
     "execution_count": 51,
     "metadata": {},
     "output_type": "execute_result"
    }
   ],
   "source": [
    "chunks"
   ]
  },
  {
   "cell_type": "code",
   "execution_count": 52,
   "id": "0c791daa-c99c-4f0c-b6d9-68ee36d10c73",
   "metadata": {
    "execution": {
     "iopub.execute_input": "2024-03-20T15:35:19.816651Z",
     "iopub.status.busy": "2024-03-20T15:35:19.816088Z",
     "iopub.status.idle": "2024-03-20T15:35:22.911580Z",
     "shell.execute_reply": "2024-03-20T15:35:22.910895Z",
     "shell.execute_reply.started": "2024-03-20T15:35:19.816605Z"
    }
   },
   "outputs": [
    {
     "name": "stdout",
     "output_type": "stream",
     "text": [
      "Embedding 1 texts... ✅\n"
     ]
    },
    {
     "data": {
      "text/plain": [
       "<langchain_community.vectorstores.chroma.Chroma at 0x223666a70>"
      ]
     },
     "execution_count": 52,
     "metadata": {},
     "output_type": "execute_result"
    }
   ],
   "source": [
    "doc_search = embed_texts_hg(chunks)\n",
    "doc_search"
   ]
  },
  {
   "cell_type": "code",
   "execution_count": 60,
   "id": "91f3c74d-ac9d-44ca-afe0-13c42e517f0b",
   "metadata": {
    "execution": {
     "iopub.execute_input": "2024-03-20T15:52:42.778216Z",
     "iopub.status.busy": "2024-03-20T15:52:42.777416Z",
     "iopub.status.idle": "2024-03-20T15:53:49.241019Z",
     "shell.execute_reply": "2024-03-20T15:53:49.239633Z",
     "shell.execute_reply.started": "2024-03-20T15:52:42.778166Z"
    }
   },
   "outputs": [
    {
     "name": "stdout",
     "output_type": "stream",
     "text": [
      "Running QA... ✅\n",
      "\n",
      "1. Coverage - How well does the concealer cover up dark circles?\n",
      "2. Consistency - Is it easy to apply or is it too thick/thin?\n",
      "3. Lasting Power - Does it stay on throughout the day without creasing?\n",
      "4. Shade Range - Are there enough shades available for different skin tones?\n",
      "5. Packaging - How user-friendly and convenient is the applicator?\n",
      "6. Price - Is it worth the cost considering its performance?\n",
      "CPU times: user 4min 2s, sys: 3.03 s, total: 4min 5s\n",
      "Wall time: 1min 6s\n"
     ]
    }
   ],
   "source": [
    "%%time\n",
    "\n",
    "def run_qa_hg(doc_search, prompt):\n",
    "    print(f\"Running QA...\", end=' ')\n",
    "    \n",
    "    qa = RetrievalQA.from_chain_type(\n",
    "        llm=llm,\n",
    "        chain_type=\"stuff\",  # the model 'stuffs' all our texts into a single prompt (sufficiently small)\n",
    "        retriever=doc_search.as_retriever(search_kwargs={\"k\": 1}),\n",
    "        return_source_documents=False,\n",
    "        verbose=False,\n",
    "    )\n",
    "\n",
    "    answer = qa.invoke(prompt)\n",
    "    print(\"✅\")\n",
    "    return answer[\"result\"]\n",
    "    \n",
    "answer = run_qa_hg(doc_search, original_prompt)\n",
    "print(answer)"
   ]
  },
  {
   "cell_type": "markdown",
   "id": "cc279727-d4d3-4575-8d00-1ad3538c2fd2",
   "metadata": {},
   "source": [
    "#### More context"
   ]
  },
  {
   "cell_type": "code",
   "execution_count": 63,
   "id": "40ace381-3bea-4804-b9d4-613ab2d3c275",
   "metadata": {
    "execution": {
     "iopub.execute_input": "2024-03-20T18:11:29.791391Z",
     "iopub.status.busy": "2024-03-20T18:11:29.789433Z",
     "iopub.status.idle": "2024-03-20T18:11:30.060837Z",
     "shell.execute_reply": "2024-03-20T18:11:30.059572Z",
     "shell.execute_reply.started": "2024-03-20T18:11:29.791331Z"
    },
    "scrolled": true
   },
   "outputs": [
    {
     "data": {
      "text/html": [
       "<div>\n",
       "<style scoped>\n",
       "    .dataframe tbody tr th:only-of-type {\n",
       "        vertical-align: middle;\n",
       "    }\n",
       "\n",
       "    .dataframe tbody tr th {\n",
       "        vertical-align: top;\n",
       "    }\n",
       "\n",
       "    .dataframe thead th {\n",
       "        text-align: right;\n",
       "    }\n",
       "</style>\n",
       "<table border=\"1\" class=\"dataframe\">\n",
       "  <thead>\n",
       "    <tr style=\"text-align: right;\">\n",
       "      <th></th>\n",
       "      <th>Product Name</th>\n",
       "      <th>Product Description</th>\n",
       "      <th>Review Text</th>\n",
       "      <th>Rating</th>\n",
       "    </tr>\n",
       "  </thead>\n",
       "  <tbody>\n",
       "    <tr>\n",
       "      <th>0</th>\n",
       "      <td>iPhone 15</td>\n",
       "      <td>The Apple iPhone 15 redefines smartphone innov...</td>\n",
       "      <td>The iPhone 15 is a masterpiece! The sleek desi...</td>\n",
       "      <td>{\"durability\": 5, \"ease of use\": 5, \"pleasant ...</td>\n",
       "    </tr>\n",
       "    <tr>\n",
       "      <th>1</th>\n",
       "      <td>MacBook Pro 2023</td>\n",
       "      <td>Experience the ultimate in computing power wit...</td>\n",
       "      <td>The MacBook Pro 2023 is a game-changer! The pe...</td>\n",
       "      <td>{\"durability\": 5, \"ease of use\": 5, \"pleasant ...</td>\n",
       "    </tr>\n",
       "    <tr>\n",
       "      <th>2</th>\n",
       "      <td>Kindle Paperwhite</td>\n",
       "      <td>Enjoy reading your favorite books anytime, any...</td>\n",
       "      <td>The Kindle Paperwhite is a must-have for book ...</td>\n",
       "      <td>{\"durability\": 5, \"ease of use\": 5, \"pleasant ...</td>\n",
       "    </tr>\n",
       "    <tr>\n",
       "      <th>3</th>\n",
       "      <td>Canon EOS R5</td>\n",
       "      <td>Capture life's moments in stunning detail with...</td>\n",
       "      <td>The Canon EOS R5 is a game-changer! The image ...</td>\n",
       "      <td>{\"durability\": 5, \"ease of use\": 5, \"pleasant ...</td>\n",
       "    </tr>\n",
       "    <tr>\n",
       "      <th>4</th>\n",
       "      <td>Nike Air Zoom Pegasus 38</td>\n",
       "      <td>Experience unparalleled comfort and performanc...</td>\n",
       "      <td>The Nike Air Zoom Pegasus 38 is a game-changer...</td>\n",
       "      <td>{\"durability\": 5, \"ease of use\": 4, \"pleasant ...</td>\n",
       "    </tr>\n",
       "  </tbody>\n",
       "</table>\n",
       "</div>"
      ],
      "text/plain": [
       "               Product Name  \\\n",
       "0                 iPhone 15   \n",
       "1          MacBook Pro 2023   \n",
       "2         Kindle Paperwhite   \n",
       "3              Canon EOS R5   \n",
       "4  Nike Air Zoom Pegasus 38   \n",
       "\n",
       "                                 Product Description  \\\n",
       "0  The Apple iPhone 15 redefines smartphone innov...   \n",
       "1  Experience the ultimate in computing power wit...   \n",
       "2  Enjoy reading your favorite books anytime, any...   \n",
       "3  Capture life's moments in stunning detail with...   \n",
       "4  Experience unparalleled comfort and performanc...   \n",
       "\n",
       "                                         Review Text  \\\n",
       "0  The iPhone 15 is a masterpiece! The sleek desi...   \n",
       "1  The MacBook Pro 2023 is a game-changer! The pe...   \n",
       "2  The Kindle Paperwhite is a must-have for book ...   \n",
       "3  The Canon EOS R5 is a game-changer! The image ...   \n",
       "4  The Nike Air Zoom Pegasus 38 is a game-changer...   \n",
       "\n",
       "                                              Rating  \n",
       "0  {\"durability\": 5, \"ease of use\": 5, \"pleasant ...  \n",
       "1  {\"durability\": 5, \"ease of use\": 5, \"pleasant ...  \n",
       "2  {\"durability\": 5, \"ease of use\": 5, \"pleasant ...  \n",
       "3  {\"durability\": 5, \"ease of use\": 5, \"pleasant ...  \n",
       "4  {\"durability\": 5, \"ease of use\": 4, \"pleasant ...  "
      ]
     },
     "execution_count": 63,
     "metadata": {},
     "output_type": "execute_result"
    }
   ],
   "source": [
    "df_reviews.head()"
   ]
  },
  {
   "cell_type": "code",
   "execution_count": 74,
   "id": "f70d9f79-3b52-4836-ae50-45c7c53391d4",
   "metadata": {
    "execution": {
     "iopub.execute_input": "2024-03-21T08:30:32.190548Z",
     "iopub.status.busy": "2024-03-21T08:30:32.190122Z",
     "iopub.status.idle": "2024-03-21T08:30:32.493930Z",
     "shell.execute_reply": "2024-03-21T08:30:32.492507Z",
     "shell.execute_reply.started": "2024-03-21T08:30:32.190516Z"
    }
   },
   "outputs": [
    {
     "name": "stdout",
     "output_type": "stream",
     "text": [
      "{'Product Name': 'iPhone 15', 'Product Description': 'The Apple iPhone 15 redefines smartphone innovation with its cutting-edge features and design.', 'Review Text': 'The iPhone 15 is a masterpiece! The sleek design, powerful performance, and advanced features make it the best smartphone on the market. Highly recommend!'}\n",
      "{'Product Name': 'MacBook Pro 2023', 'Product Description': 'Experience the ultimate in computing power with the MacBook Pro 2023, featuring blazing-fast performance and stunning Retina display.', 'Review Text': 'The MacBook Pro 2023 is a game-changer! The performance is lightning-fast, the Retina display is breathtaking, and the build quality is top-notch. Absolutely love it!'}\n",
      "{'Product Name': 'Kindle Paperwhite', 'Product Description': 'Enjoy reading your favorite books anytime, anywhere with the Kindle Paperwhite e-reader.', 'Review Text': 'The Kindle Paperwhite is a must-have for book lovers! The adjustable lighting, crisp display, and long battery life make it perfect for hours of reading. Highly recommend!'}\n"
     ]
    },
    {
     "name": "stderr",
     "output_type": "stream",
     "text": [
      "huggingface/tokenizers: The current process just got forked, after parallelism has already been used. Disabling parallelism to avoid deadlocks...\n",
      "To disable this warning, you can either:\n",
      "\t- Avoid using `tokenizers` before the fork if possible\n",
      "\t- Explicitly set the environment variable TOKENIZERS_PARALLELISM=(true | false)\n"
     ]
    }
   ],
   "source": [
    "CONTEXT_REVIEWS_FILE = 'context_reviews.txt'\n",
    "\n",
    "# records = df_reviews.drop(columns='Rating').to_json(orient='records')\n",
    "\n",
    "# List of dictionaries\n",
    "records = df_reviews.drop(columns='Rating').to_dict(orient='records')\n",
    "with open(CONTEXT_REVIEWS_FILE, 'w') as f:\n",
    "    f.writelines(map(lambda d: str(d) + '\\n', records))\n",
    "    \n",
    "!head -3 {CONTEXT_REVIEWS_FILE}"
   ]
  },
  {
   "cell_type": "code",
   "execution_count": 86,
   "id": "3455a0b7-50c6-45c3-aa67-ea36a1b852fb",
   "metadata": {
    "execution": {
     "iopub.execute_input": "2024-03-21T08:41:34.180582Z",
     "iopub.status.busy": "2024-03-21T08:41:34.180014Z",
     "iopub.status.idle": "2024-03-21T08:41:34.332318Z",
     "shell.execute_reply": "2024-03-21T08:41:34.330527Z",
     "shell.execute_reply.started": "2024-03-21T08:41:34.180548Z"
    }
   },
   "outputs": [
    {
     "name": "stdout",
     "output_type": "stream",
     "text": [
      "Loading context_reviews.txt... ✅\n"
     ]
    },
    {
     "data": {
      "text/plain": [
       "(langchain_core.documents.base.Document, 106)"
      ]
     },
     "execution_count": 86,
     "metadata": {},
     "output_type": "execute_result"
    }
   ],
   "source": [
    "# Loading reviews rather than just one product name\n",
    "\n",
    "from langchain_community.document_loaders import TextLoader\n",
    "\n",
    "\n",
    "def load_file(file_path) -> list[Document]:\n",
    "    assert os.path.exists(file_path), f\"File not found: {file_path}\"\n",
    "    \n",
    "    print(f\"Loading {file_path}...\", end=' ')\n",
    "    documents = TextLoader(file_path).load()\n",
    "\n",
    "    # A) Recursive splitter\n",
    "    splitter = RecursiveCharacterTextSplitter(\n",
    "        separators=['\\n'],\n",
    "        chunk_size=500, chunk_overlap=100\n",
    "    )\n",
    "    # B) Text splitter\n",
    "    # splitter = CharacterTextSplitter(chunk_size=1000, chunk_overlap=0)\n",
    "\n",
    "    texts = splitter.split_documents(documents)\n",
    "    print(\"✅\")\n",
    "    return texts\n",
    "\n",
    "review_chunks = load_file(CONTEXT_REVIEWS_FILE)\n",
    "type(review_chunks[0]), len(review_chunks)"
   ]
  },
  {
   "cell_type": "code",
   "execution_count": 89,
   "id": "8bb14c79-017d-4dff-a54e-f3d995ac8027",
   "metadata": {
    "execution": {
     "iopub.execute_input": "2024-03-21T08:43:19.071040Z",
     "iopub.status.busy": "2024-03-21T08:43:19.070625Z",
     "iopub.status.idle": "2024-03-21T08:43:24.300627Z",
     "shell.execute_reply": "2024-03-21T08:43:24.298665Z",
     "shell.execute_reply.started": "2024-03-21T08:43:19.071009Z"
    }
   },
   "outputs": [
    {
     "name": "stdout",
     "output_type": "stream",
     "text": [
      "Embedding 106 texts... ✅\n"
     ]
    }
   ],
   "source": [
    "doc_search_2 = embed_texts_hg(review_chunks)"
   ]
  },
  {
   "cell_type": "code",
   "execution_count": 99,
   "id": "7fc29ec3-92a9-46c4-933a-f8205420292e",
   "metadata": {
    "execution": {
     "iopub.execute_input": "2024-03-21T09:16:52.931608Z",
     "iopub.status.busy": "2024-03-21T09:16:52.930750Z",
     "iopub.status.idle": "2024-03-21T09:16:53.046520Z",
     "shell.execute_reply": "2024-03-21T09:16:53.045615Z",
     "shell.execute_reply.started": "2024-03-21T09:16:52.931570Z"
    }
   },
   "outputs": [
    {
     "data": {
      "text/plain": [
       "\"Product: 'Maybelline Instant Age Rewind Eraser Dark Circles Treatment Concealer'\\n\\nFor this product, please produce between 3 and 6 criteria that could be rated by a user for a review. No more details needed.\\n\""
      ]
     },
     "execution_count": 99,
     "metadata": {},
     "output_type": "execute_result"
    }
   ],
   "source": [
    "template_filled = f\"\"\"Product: '{{product_text}}'\n",
    "{original_prompt}\"\"\".format(product_text=PRODUCT_INPUT)\n",
    "template_filled"
   ]
  },
  {
   "cell_type": "code",
   "execution_count": 102,
   "id": "25b075e0-1286-4365-b103-24a280d4e32b",
   "metadata": {
    "execution": {
     "iopub.execute_input": "2024-03-21T09:18:34.468151Z",
     "iopub.status.busy": "2024-03-21T09:18:34.467518Z",
     "iopub.status.idle": "2024-03-21T09:18:34.596760Z",
     "shell.execute_reply": "2024-03-21T09:18:34.594642Z",
     "shell.execute_reply.started": "2024-03-21T09:18:34.468107Z"
    }
   },
   "outputs": [
    {
     "name": "stdout",
     "output_type": "stream",
     "text": [
      "\n",
      "1. Ease of application - how easy is it to apply the concealer?\n",
      "2. Coverage - does it effectively cover dark circles under the eyes?\n",
      "3. Longevity - how long does the product last before needing reapplication?\n",
      "4. Skin compatibility - does it cause any irritation or adverse reactions on the skin?\n",
      "5. Natural finish - does it look natural when applied, or is it too obvious?\n",
      "6. Price - is it worth the cost for its performance and benefits?\n"
     ]
    }
   ],
   "source": [
    "qa_chain = RetrievalQA.from_chain_type(\n",
    "    llm=llm, \n",
    "    chain_type=\"stuff\",\n",
    "    retriever=doc_search_2.as_retriever(search_kwargs={\"k\": 1}),\n",
    "    return_source_documents=False,\n",
    "    verbose=False,\n",
    ")\n",
    "res = qa_chain.invoke(template_filled)\n",
    "print(res['result'])"
   ]
  },
  {
   "cell_type": "markdown",
   "id": "d784e969-f4d2-4c5b-bbf0-896cbbc6a617",
   "metadata": {},
   "source": [
    "## Results analysis\n",
    "\n",
    "So far the results are the following:\n",
    "\n",
    "**Standard LLM chain with no context, prompt contains the product description and asks for criteria**\n",
    "1) Coverage - How well does the concealer cover up dark circles?\n",
    "2) Consistency - Is it easy to apply or is it too thick/thin?\n",
    "3) Longevity - Does it last throughout the day without fading, creasing, or settling into fine lines?\n",
    "4) Shade Range - Are there enough shades available for different skin tones?\n",
    "5) Packaging - Is the packaging user-friendly and easy to use?\n",
    "6) Price - How affordable is this product compared to similar products on the market?\n",
    "\n",
    "**QA Retrieval chain, product description in a single document, prompt asks for criteria**\n",
    "1. Coverage - How well does the concealer cover up dark circles?\n",
    "2. Consistency - Is it easy to apply or is it too thick/thin?\n",
    "3. Lasting Power - Does it stay on throughout the day without creasing?\n",
    "4. Shade Range - Are there enough shades available for different skin tones?\n",
    "5. Packaging - How user-friendly and convenient is the applicator?\n",
    "6. Price - Is it worth the cost considering its performance?\n",
    "\n",
    "**QA retrieval chain, multiple product descriptions and reviews in a document, prompt contains product description and asks for \n",
    "citeria**\n",
    "\n",
    "1. Ease of application - how easy is it to apply the concealer?\n",
    "2. Coverage - does it effectively cover dark circles under the eyes?\n",
    "3. Longevity - how long does the product last before needing reapplication?\n",
    "4. Skin compatibility - does it cause any irritation or adverse reactions on the skin?\n",
    "5. Natural finish - does it look natural when applied, or is it too obvious?\n",
    "6. Price - is it worth the cost for its performance and benefits?"
   ]
  },
  {
   "cell_type": "markdown",
   "id": "a6ce0bcd-4c83-46c6-b300-2ea16e2ec3a5",
   "metadata": {},
   "source": [
    "Next: \n",
    "- Generate outputs for many products,\n",
    "- analyse results to validate patterns,\n",
    "- look out for exceptions,\n",
    "- derive a safe criteria extraction method."
   ]
  },
  {
   "cell_type": "code",
   "execution_count": null,
   "id": "9e7d9263-c70e-4897-8c4d-0d99a5ba3701",
   "metadata": {},
   "outputs": [],
   "source": [
    "for product_txt in df_reviews['Product Name']:\n",
    "    pass"
   ]
  }
 ],
 "metadata": {
  "kernelspec": {
   "display_name": "Python 3 (ipykernel)",
   "language": "python",
   "name": "python3"
  },
  "language_info": {
   "codemirror_mode": {
    "name": "ipython",
    "version": 3
   },
   "file_extension": ".py",
   "mimetype": "text/x-python",
   "name": "python",
   "nbconvert_exporter": "python",
   "pygments_lexer": "ipython3",
   "version": "3.10.6"
  }
 },
 "nbformat": 4,
 "nbformat_minor": 5
}
