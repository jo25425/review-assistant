{
 "cells": [
  {
   "cell_type": "code",
   "execution_count": 20,
   "id": "fbee7830-1cb1-45c8-b426-ec6cd19f1858",
   "metadata": {
    "execution": {
     "iopub.execute_input": "2024-03-19T15:04:48.317724Z",
     "iopub.status.busy": "2024-03-19T15:04:48.317198Z",
     "iopub.status.idle": "2024-03-19T15:04:48.326781Z",
     "shell.execute_reply": "2024-03-19T15:04:48.325855Z",
     "shell.execute_reply.started": "2024-03-19T15:04:48.317680Z"
    }
   },
   "outputs": [
    {
     "data": {
      "text/plain": [
       "True"
      ]
     },
     "execution_count": 20,
     "metadata": {},
     "output_type": "execute_result"
    }
   ],
   "source": [
    "import os\n",
    "import sys\n",
    "from dotenv import load_dotenv\n",
    "load_dotenv()"
   ]
  },
  {
   "cell_type": "markdown",
   "id": "61cbee53-5f62-4461-80a3-32e3cb15d36b",
   "metadata": {},
   "source": [
    "## Data"
   ]
  },
  {
   "cell_type": "code",
   "execution_count": 9,
   "id": "0ad3edaf-27c5-45cb-a92f-1e85f85c73a2",
   "metadata": {
    "execution": {
     "iopub.execute_input": "2024-03-19T14:33:25.930228Z",
     "iopub.status.busy": "2024-03-19T14:33:25.929635Z",
     "iopub.status.idle": "2024-03-19T14:33:30.459055Z",
     "shell.execute_reply": "2024-03-19T14:33:30.458128Z",
     "shell.execute_reply.started": "2024-03-19T14:33:25.930180Z"
    }
   },
   "outputs": [],
   "source": [
    "import pandas as pd"
   ]
  },
  {
   "cell_type": "code",
   "execution_count": 28,
   "id": "81def16e-7fda-4a98-a656-29ffc7457f2e",
   "metadata": {
    "execution": {
     "iopub.execute_input": "2024-03-19T15:06:11.401190Z",
     "iopub.status.busy": "2024-03-19T15:06:11.400535Z",
     "iopub.status.idle": "2024-03-19T15:06:11.412402Z",
     "shell.execute_reply": "2024-03-19T15:06:11.411286Z",
     "shell.execute_reply.started": "2024-03-19T15:06:11.401133Z"
    }
   },
   "outputs": [],
   "source": [
    "df_reviews = pd.read_csv(\"../raw_data/dummy_data.csv\", index_col=0)"
   ]
  },
  {
   "cell_type": "code",
   "execution_count": 30,
   "id": "1f6274dd-b95e-45dd-9b8a-a4edb60a1e43",
   "metadata": {
    "execution": {
     "iopub.execute_input": "2024-03-19T15:06:25.469147Z",
     "iopub.status.busy": "2024-03-19T15:06:25.468421Z",
     "iopub.status.idle": "2024-03-19T15:06:25.484078Z",
     "shell.execute_reply": "2024-03-19T15:06:25.483155Z",
     "shell.execute_reply.started": "2024-03-19T15:06:25.469098Z"
    }
   },
   "outputs": [
    {
     "name": "stdout",
     "output_type": "stream",
     "text": [
      "Index(['Product Name', 'Product Description', 'Review Text', 'Rating'], dtype='object') (109, 4)\n"
     ]
    },
    {
     "data": {
      "text/html": [
       "<div>\n",
       "<style scoped>\n",
       "    .dataframe tbody tr th:only-of-type {\n",
       "        vertical-align: middle;\n",
       "    }\n",
       "\n",
       "    .dataframe tbody tr th {\n",
       "        vertical-align: top;\n",
       "    }\n",
       "\n",
       "    .dataframe thead th {\n",
       "        text-align: right;\n",
       "    }\n",
       "</style>\n",
       "<table border=\"1\" class=\"dataframe\">\n",
       "  <thead>\n",
       "    <tr style=\"text-align: right;\">\n",
       "      <th></th>\n",
       "      <th>Product Name</th>\n",
       "      <th>Product Description</th>\n",
       "      <th>Review Text</th>\n",
       "      <th>Rating</th>\n",
       "    </tr>\n",
       "  </thead>\n",
       "  <tbody>\n",
       "    <tr>\n",
       "      <th>0</th>\n",
       "      <td>iPhone 15</td>\n",
       "      <td>The Apple iPhone 15 redefines smartphone innov...</td>\n",
       "      <td>The iPhone 15 is a masterpiece! The sleek desi...</td>\n",
       "      <td>{\"durability\": 5, \"ease of use\": 5, \"pleasant ...</td>\n",
       "    </tr>\n",
       "    <tr>\n",
       "      <th>1</th>\n",
       "      <td>MacBook Pro 2023</td>\n",
       "      <td>Experience the ultimate in computing power wit...</td>\n",
       "      <td>The MacBook Pro 2023 is a game-changer! The pe...</td>\n",
       "      <td>{\"durability\": 5, \"ease of use\": 5, \"pleasant ...</td>\n",
       "    </tr>\n",
       "    <tr>\n",
       "      <th>2</th>\n",
       "      <td>Kindle Paperwhite</td>\n",
       "      <td>Enjoy reading your favorite books anytime, any...</td>\n",
       "      <td>The Kindle Paperwhite is a must-have for book ...</td>\n",
       "      <td>{\"durability\": 5, \"ease of use\": 5, \"pleasant ...</td>\n",
       "    </tr>\n",
       "  </tbody>\n",
       "</table>\n",
       "</div>"
      ],
      "text/plain": [
       "        Product Name                                Product Description  \\\n",
       "0          iPhone 15  The Apple iPhone 15 redefines smartphone innov...   \n",
       "1   MacBook Pro 2023  Experience the ultimate in computing power wit...   \n",
       "2  Kindle Paperwhite  Enjoy reading your favorite books anytime, any...   \n",
       "\n",
       "                                         Review Text  \\\n",
       "0  The iPhone 15 is a masterpiece! The sleek desi...   \n",
       "1  The MacBook Pro 2023 is a game-changer! The pe...   \n",
       "2  The Kindle Paperwhite is a must-have for book ...   \n",
       "\n",
       "                                              Rating  \n",
       "0  {\"durability\": 5, \"ease of use\": 5, \"pleasant ...  \n",
       "1  {\"durability\": 5, \"ease of use\": 5, \"pleasant ...  \n",
       "2  {\"durability\": 5, \"ease of use\": 5, \"pleasant ...  "
      ]
     },
     "execution_count": 30,
     "metadata": {},
     "output_type": "execute_result"
    }
   ],
   "source": [
    "print(df.columns, df_reviews.shape)\n",
    "df_reviews.head(3)"
   ]
  },
  {
   "cell_type": "code",
   "execution_count": 36,
   "id": "a477c813-8993-45b5-8661-45415aa22c26",
   "metadata": {
    "execution": {
     "iopub.execute_input": "2024-03-19T15:08:51.291210Z",
     "iopub.status.busy": "2024-03-19T15:08:51.290651Z",
     "iopub.status.idle": "2024-03-19T15:08:51.302245Z",
     "shell.execute_reply": "2024-03-19T15:08:51.300898Z",
     "shell.execute_reply.started": "2024-03-19T15:08:51.291166Z"
    }
   },
   "outputs": [
    {
     "data": {
      "text/plain": [
       "'Maybelline Instant Age Rewind Eraser Dark Circles Treatment Concealer'"
      ]
     },
     "execution_count": 36,
     "metadata": {},
     "output_type": "execute_result"
    }
   ],
   "source": [
    "# Check out some descriptions to use as input\n",
    "df_reviews[\"Product Name\"].sample(1).iloc[0]"
   ]
  },
  {
   "cell_type": "markdown",
   "id": "5433a24f-4c86-4937-9ae6-0e6b90217864",
   "metadata": {},
   "source": [
    "## Criteria generation"
   ]
  },
  {
   "cell_type": "markdown",
   "id": "81b3da2a-fac7-4aec-be78-8c9396d1bdd6",
   "metadata": {},
   "source": [
    "### A) Langchain - product name for context"
   ]
  },
  {
   "cell_type": "code",
   "execution_count": 31,
   "id": "8c5d3042-c378-49fc-bfd3-f1c97fa737d1",
   "metadata": {
    "execution": {
     "iopub.execute_input": "2024-03-19T15:06:59.690088Z",
     "iopub.status.busy": "2024-03-19T15:06:59.689230Z",
     "iopub.status.idle": "2024-03-19T15:06:59.700749Z",
     "shell.execute_reply": "2024-03-19T15:06:59.699489Z",
     "shell.execute_reply.started": "2024-03-19T15:06:59.690040Z"
    }
   },
   "outputs": [],
   "source": [
    "from langchain.chains import RetrievalQA\n",
    "from langchain_community.document_loaders import TextLoader\n",
    "from langchain_text_splitters import RecursiveCharacterTextSplitter\n",
    "from langchain_text_splitters import Language\n",
    "from langchain_openai import OpenAIEmbeddings, ChatOpenAI\n",
    "from langchain_community.vectorstores import Chroma\n",
    "from langchain.schema.document import Document"
   ]
  },
  {
   "cell_type": "code",
   "execution_count": 38,
   "id": "48ac494f-add5-4968-bd2e-031ae0c7599d",
   "metadata": {
    "execution": {
     "iopub.execute_input": "2024-03-19T15:09:41.298731Z",
     "iopub.status.busy": "2024-03-19T15:09:41.298070Z",
     "iopub.status.idle": "2024-03-19T15:09:41.317267Z",
     "shell.execute_reply": "2024-03-19T15:09:41.315745Z",
     "shell.execute_reply.started": "2024-03-19T15:09:41.298678Z"
    }
   },
   "outputs": [],
   "source": [
    "def get_text_chunks(text):\n",
    "    text_splitter = RecursiveCharacterTextSplitter(chunk_size=500, chunk_overlap=100)\n",
    "    docs = [Document(page_content=x) for x in text_splitter.split_text(text)]\n",
    "    return docs\n",
    "\n",
    "def embed_texts(texts, openai_api_key):\n",
    "    print(f\"Embedding {len(texts)} texts...\", end=' ')\n",
    "    # Instantiate an embedder\n",
    "    embedder = OpenAIEmbeddings(openai_api_key=openai_api_key)\n",
    "\n",
    "    # Use the embedder to populate a Chroma vector store with our texts.\n",
    "    doc_search = Chroma.from_documents(texts, embedder)\n",
    "    print(\"✅\")\n",
    "    return doc_search\n",
    "\n",
    "def run_qa(doc_search, prompt, openai_api_key):\n",
    "    print(f\"Running QA...\", end=' ')\n",
    "\n",
    "    # Retrieval QA\n",
    "    # - chain_type=\"stuff\": the model 'stuffs' all our texts into a single prompt (sufficiently small)\n",
    "    # - model: latest GPT-3.5-Turbo model.\n",
    "    qa = RetrievalQA.from_chain_type(\n",
    "        llm=ChatOpenAI(model_name=\"gpt-3.5-turbo\", openai_api_key=openai_api_key),\n",
    "        chain_type=\"stuff\",\n",
    "        retriever=doc_search.as_retriever(search_kwargs={\"k\": 1})  # 1 doc to return max\n",
    "    )\n",
    "\n",
    "    answer = qa.invoke(prompt)\n",
    "    print(\"✅\")\n",
    "    return answer[\"result\"]"
   ]
  },
  {
   "cell_type": "code",
   "execution_count": 41,
   "id": "7386264a-edcb-47fb-b2db-5a246beb67c3",
   "metadata": {
    "execution": {
     "iopub.execute_input": "2024-03-19T15:10:30.416928Z",
     "iopub.status.busy": "2024-03-19T15:10:30.416317Z",
     "iopub.status.idle": "2024-03-19T15:10:30.425742Z",
     "shell.execute_reply": "2024-03-19T15:10:30.424557Z",
     "shell.execute_reply.started": "2024-03-19T15:10:30.416882Z"
    }
   },
   "outputs": [
    {
     "data": {
      "text/plain": [
       "[Document(page_content='Maybelline Instant Age Rewind Eraser Dark Circles Treatment Concealer')]"
      ]
     },
     "execution_count": 41,
     "metadata": {},
     "output_type": "execute_result"
    }
   ],
   "source": [
    "OPEN_API_KEY = os.environ.get('OPENAI_API_KEY')\n",
    "PRODUCT_INPUT = 'Maybelline Instant Age Rewind Eraser Dark Circles Treatment Concealer'\n",
    "\n",
    "\n",
    "chunks = get_text_chunks(PRODUCT_INPUT)\n",
    "chunks"
   ]
  },
  {
   "cell_type": "code",
   "execution_count": 44,
   "id": "83c85129-e9a4-4695-b2d8-1056bc785471",
   "metadata": {
    "execution": {
     "iopub.execute_input": "2024-03-19T15:19:33.618310Z",
     "iopub.status.busy": "2024-03-19T15:19:33.615726Z",
     "iopub.status.idle": "2024-03-19T15:19:36.947755Z",
     "shell.execute_reply": "2024-03-19T15:19:36.946617Z",
     "shell.execute_reply.started": "2024-03-19T15:19:33.618263Z"
    }
   },
   "outputs": [
    {
     "name": "stdout",
     "output_type": "stream",
     "text": [
      "Embedding 1 texts... ✅\n"
     ]
    },
    {
     "data": {
      "text/plain": [
       "<langchain_community.vectorstores.chroma.Chroma at 0x11e6c86d0>"
      ]
     },
     "execution_count": 44,
     "metadata": {},
     "output_type": "execute_result"
    }
   ],
   "source": [
    "doc_search = embed_texts(chunks, OPEN_API_KEY)\n",
    "doc_search"
   ]
  },
  {
   "cell_type": "code",
   "execution_count": 50,
   "id": "be74c13c-8b0d-44ab-bf19-bdd59a903028",
   "metadata": {
    "execution": {
     "iopub.execute_input": "2024-03-19T15:29:45.659960Z",
     "iopub.status.busy": "2024-03-19T15:29:45.659389Z",
     "iopub.status.idle": "2024-03-19T15:29:45.669487Z",
     "shell.execute_reply": "2024-03-19T15:29:45.668050Z",
     "shell.execute_reply.started": "2024-03-19T15:29:45.659913Z"
    }
   },
   "outputs": [
    {
     "name": "stdout",
     "output_type": "stream",
     "text": [
      "Product: Maybelline Instant Age Rewind Eraser Dark Circles Treatment Concealer\n",
      "\n",
      "Some rating criteria:\n",
      "1. Coverage\n",
      "2. Longevity\n",
      "3. Blendability\n",
      "4. Shade Range\n",
      "5. Packaging\n",
      "6. Hydration properties\n"
     ]
    }
   ],
   "source": [
    "prompt = \"\"\"\n",
    "Given this product title, please select between 3 and 6 criteria to rate in order to compose a product review.\n",
    "\"\"\"\n",
    "answer = run_qa(doc_search, prompt, OPEN_API_KEY)\n",
    "\n",
    "print(f\"Product: {PRODUCT_INPUT}\\n\")\n",
    "print(f\"Some rating criteria:\\n{answer}\")"
   ]
  },
  {
   "cell_type": "markdown",
   "id": "88107a0a-59c3-4091-a4df-b8e9b56591f2",
   "metadata": {},
   "source": [
    "### B) Langchain - all products and reviews"
   ]
  },
  {
   "cell_type": "code",
   "execution_count": null,
   "id": "0c791daa-c99c-4f0c-b6d9-68ee36d10c73",
   "metadata": {},
   "outputs": [],
   "source": [
    "# def load_file(file_path):\n",
    "#     print(f\"Loading {file_path}...\", end=' ')\n",
    "#     try:\n",
    "#         loader = TextLoader(file_path)\n",
    "#         documents = loader.load()\n",
    "#     except FileNotFoundError:\n",
    "#         print(f\"File not found: {file_path}\")\n",
    "#         return\n",
    "\n",
    "#     # A) Recursive splitter\n",
    "#     splitter = (RecursiveCharacterTextSplitter\n",
    "#                 .from_language(language=Language.PYTHON, chunk_size=2000, chunk_overlap=200))\n",
    "#     # B) Text splitter\n",
    "#     # splitter = CharacterTextSplitter(chunk_size=1000, chunk_overlap=0)\n",
    "\n",
    "#     texts = splitter.split_documents(documents)\n",
    "#     print(\"✅\")\n",
    "#     return texts"
   ]
  }
 ],
 "metadata": {
  "kernelspec": {
   "display_name": "Python 3 (ipykernel)",
   "language": "python",
   "name": "python3"
  },
  "language_info": {
   "codemirror_mode": {
    "name": "ipython",
    "version": 3
   },
   "file_extension": ".py",
   "mimetype": "text/x-python",
   "name": "python",
   "nbconvert_exporter": "python",
   "pygments_lexer": "ipython3",
   "version": "3.10.6"
  }
 },
 "nbformat": 4,
 "nbformat_minor": 5
}
