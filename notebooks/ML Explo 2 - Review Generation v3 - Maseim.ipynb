{
 "cells": [
  {
   "cell_type": "code",
   "execution_count": 58,
   "id": "b170d284-5223-4390-84bc-17797259e486",
   "metadata": {},
   "outputs": [],
   "source": [
    "import os\n",
    "import sys\n",
    "from dotenv import load_dotenv\n",
    "load_dotenv()\n",
    "\n",
    "from langchain import PromptTemplate\n",
    "from langchain.llms import OpenAI"
   ]
  },
  {
   "cell_type": "code",
   "execution_count": 63,
   "id": "93fed3e5-149a-46ae-998c-211ba2df05f5",
   "metadata": {},
   "outputs": [],
   "source": [
    "def ReviewGeneration(product_name, input_criteria_score : dict) -> None:\n",
    "    \"\"\"\n",
    "    This function expects a dictionary of the form:\n",
    "    input_criteria_score = [{\"criteria_0\":score_0}, {\"criteria_1\":score_1}, ...., {\"criteria_n\":score_n}]\n",
    "    if not, this function returns None.\n",
    "    \"\"\"\n",
    "    # Global Variables\n",
    "    N = len(input_criteria_score[0]) #number of criteria\n",
    "\n",
    "    # transforming score into adjectives\n",
    "    criteria = [{\"0\":\"Very bad\", \"1\":\"Bad\", \"2\":\"Not so good\", \"3\":\"Acceptable\", \"4\":\"Good\", \"5\":\"Very good\"}]\n",
    "\n",
    "    # Decompressing input_criteria_score dictionary\n",
    "    prefix = []\n",
    "    input_criteria = []\n",
    "    input_adjectives = []\n",
    "    for key, value in input_criteria_score[0].items():\n",
    "        input_criteria.append(key)\n",
    "        input_adjectives.append(criteria[0][str(input_criteria_score[0][key])])\n",
    "        pref = f\"{key}:{criteria[0][str(input_criteria_score[0][key])]}\"\n",
    "        prefix.append(pref)\n",
    "\n",
    "    # Criteria, Adjective and Feeling lists\n",
    "    criteria_list, adjective_list, feeling_list = [f\"criteria_{n}\" for n in range(N)],\\\n",
    "                                                  [f\"adjective_{n}\" for n in range(N)],\\\n",
    "                                                  [f\"feeling_{n}\" for n in range(N)]\n",
    "\n",
    "       \n",
    "    # template for PromptTemplate()\n",
    "    def template(prefix):\n",
    "        \"\"\"\n",
    "            This function build a template with a set of instructions to be passed to the model.\n",
    "        \"\"\"\n",
    "        temp = f\" You are a costumer. I want you to generate a product review on {product_name}\\\n",
    "               considering the following criteria: {prefix}. Be precise and concise.\"\n",
    "\n",
    "        return temp\n",
    "    \n",
    "    template = template(prefix)\n",
    "\n",
    "    #input variables for PromptTemplate()\n",
    "    def input_variable(product_name, criteria_list,  adjective_list,  feeling_list=None,  **kwargs):\n",
    "        \"\"\"\n",
    "            This function builds the input_variables necessary for the PromptTemplate()\n",
    "            Here, we have made feeling_list optional. input_variable() can be called without it!\n",
    "        \"\"\"\n",
    "        if feeling_list is not None:\n",
    "            input_var = [f\"{product_name}\"] + criteria_list + adjective_list + feeling_list\n",
    "        else:\n",
    "            input_var = [f\"{product_name}\"] + criteria_list + adjective_list\n",
    "\n",
    "        return input_var\n",
    "\n",
    "    #instantiating input_variable()\n",
    "    input_variables = input_variable(product_name, criteria_list,  adjective_list)\n",
    "\n",
    "    #instantiating the model\n",
    "    llm = OpenAI(temperature=0.9)\n",
    "\n",
    "    # building the prompt\n",
    "    prompt = PromptTemplate(\n",
    "        input_variables = input_variables,\n",
    "        template = template\n",
    "            )\n",
    "    def Prompt(**kwargs):\n",
    "        if N == 1:\n",
    "            response = llm(prompt.format(criteria_0=input_criteria[0], adjective_0=input_adjectives[0])                  \n",
    "                          )\n",
    "        if N == 2:\n",
    "            response = llm(prompt.format(criteria_0=input_criteria[0], criteria_1=input_criteria[1],\n",
    "                          adjective_0=input_adjectives[0], adjective_1=input_adjectives[1])                          \n",
    "                          )\n",
    "        if N == 3:\n",
    "            response = llm(prompt.format(criteria_0=input_criteria[0], criteria_1=input_criteria[1], criteria_2=input_criteria[2],\\\n",
    "                          adjective_0=input_adjectives[0], adjective_1=input_adjectives[1], adjective_2=input_adjectives[2])                          \n",
    "                          )\n",
    "        if N == 4:\n",
    "            response = llm(prompt.format(criteria_0=input_criteria[0], criteria_1=input_criteria[1], criteria_2=input_criteria[2], criteria_3=input_criteria[3],\\\n",
    "                          adjective_0=input_adjectives[0], adjective_1=input_adjectives[1], adjective_2=input_adjectives[2], adjective_3=input_adjectives[3])                          \n",
    "                          )\n",
    "        if N == 5:\n",
    "            response = llm(prompt.format(criteria_0=input_criteria[0], criteria_1=input_criteria[1], criteria_2=input_criteria[2], criteria_3=input_criteria[3], criteria_4=input_criteria[4],\\\n",
    "                          adjective_0=input_adjectives[0], adjective_1=input_adjectives[1], adjective_2=input_adjectives[2], adjective_3=input_adjectives[3], adjective_4=input_adjectives[4])                          \n",
    "                          )\n",
    "        \n",
    "        return response\n",
    "\n",
    "    # review_generation = Prompt()\n",
    "    return 1 #review_generation"
   ]
  },
  {
   "cell_type": "code",
   "execution_count": 50,
   "id": "7782cc85-c7ef-498f-b1ca-cb95651b3526",
   "metadata": {},
   "outputs": [],
   "source": [
    "#example\n",
    "product_name = \"iphone\"\n",
    "\n",
    "#fake values\n",
    "score = [0, 4, 2, 3, 1]\n",
    "criteria_score = [{\"Design and Build Quality\":score[0], \"Display\":score[1], \"Performance\":score[2], \"Camera Quality\":score[3], \"Battery Life\":score[4]}]"
   ]
  },
  {
   "cell_type": "code",
   "execution_count": 51,
   "id": "0ac5ce7d-a744-4a77-b53c-0a96787e0391",
   "metadata": {},
   "outputs": [
    {
     "data": {
      "text/plain": [
       "\"\\n\\nI recently purchased the iPhone and I must say, I am quite disappointed with the design and build quality. It feels flimsy and cheap, definitely not worth the price I paid for it. However, the display is good and the colors are vibrant, so that's a plus.\\n\\nWhen it comes to performance, I have to say it's not so good. Apps often freeze and it takes forever to load anything. This can be quite frustrating, especially when I need to get things done quickly.\\n\\nThe camera quality is acceptable, but nothing to write home about. It takes decent pictures in good lighting, but the photos tend to be grainy in low light situations. As for battery life, it's bad. I find myself constantly needing to charge my phone throughout the day, which can be a hassle.\\n\\nIn conclusion, while the iPhone may have a good display and acceptable camera quality, the overall design and build quality, performance, and battery life do not meet my expectations. I am disappointed with my purchase and would not recommend it to others.\""
      ]
     },
     "execution_count": 51,
     "metadata": {},
     "output_type": "execute_result"
    }
   ],
   "source": [
    "ReviewGeneration(product_name, criteria_score)"
   ]
  },
  {
   "cell_type": "code",
   "execution_count": 61,
   "id": "c44e2354-5a01-4dbf-8129-7f550aa233b4",
   "metadata": {},
   "outputs": [],
   "source": [
    "#example\n",
    "product_name = \"jean\"\n",
    "\n",
    "score = [4, 3, 2, 3, 0]\n",
    "criteria_score = [{\n",
    "        \"Design\": score[0],\n",
    "        \"Comfort\": score[1],\n",
    "        \"Durability\": score[2],\n",
    "        \"Fit\": score[3],\n",
    "        \"Price\": score[4]\n",
    "    }]"
   ]
  },
  {
   "cell_type": "code",
   "execution_count": 57,
   "id": "fbacc51d-0e9d-4d90-bd30-37259f66e9fd",
   "metadata": {},
   "outputs": [
    {
     "data": {
      "text/plain": [
       "'\\nI recently purchased a pair of jeans and after wearing them for a while, I wanted to share my experience with others. Overall, I found that the jeans had a good design, acceptable comfort, and an acceptable fit. However, I was disappointed with the durability and the price of the jeans.\\n\\nStarting with the positives, I really liked the design of the jeans. The color and style were exactly what I was looking for and I received many compliments when wearing them. The comfort level was also acceptable, though not exceptional. The fabric was soft and had some stretch, but after a few hours of wear, I did find myself wanting to take them off.\\n\\nIn terms of fit, I found the jeans to be acceptable. They fit well in the waist and hips, but I did notice some bagginess in the thighs. However, overall, I was happy with how they looked on me.\\n\\nUnfortunately, the durability of the jeans was not up to my expectations. After only a few wears, I started to notice some fraying in the seams and the fabric was not holding up as well as I had hoped. This was disappointing, especially considering the price of the jeans.\\n\\nWhich brings me to my biggest issue with these jeans - the price. I personally feel that the price'"
      ]
     },
     "execution_count": 57,
     "metadata": {},
     "output_type": "execute_result"
    }
   ],
   "source": [
    "ReviewGeneration(product_name, criteria_score)"
   ]
  },
  {
   "cell_type": "code",
   "execution_count": 64,
   "id": "cccbd48c-0a36-4e3f-8d9e-897db8dc8a76",
   "metadata": {},
   "outputs": [
    {
     "data": {
      "text/plain": [
       "1"
      ]
     },
     "execution_count": 64,
     "metadata": {},
     "output_type": "execute_result"
    }
   ],
   "source": [
    "ReviewGeneration(product_name, criteria_score)"
   ]
  },
  {
   "cell_type": "code",
   "execution_count": null,
   "id": "0be56f75-67a4-4c20-a54a-db0e3d2a2be3",
   "metadata": {},
   "outputs": [],
   "source": []
  }
 ],
 "metadata": {
  "kernelspec": {
   "display_name": "Python 3 (ipykernel)",
   "language": "python",
   "name": "python3"
  },
  "language_info": {
   "codemirror_mode": {
    "name": "ipython",
    "version": 3
   },
   "file_extension": ".py",
   "mimetype": "text/x-python",
   "name": "python",
   "nbconvert_exporter": "python",
   "pygments_lexer": "ipython3",
   "version": "3.10.6"
  }
 },
 "nbformat": 4,
 "nbformat_minor": 5
}
